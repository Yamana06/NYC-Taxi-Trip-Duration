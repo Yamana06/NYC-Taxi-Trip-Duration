{
  "cells": [
    {
      "cell_type": "markdown",
      "metadata": {
        "id": "view-in-github",
        "colab_type": "text"
      },
      "source": [
        "<a href=\"https://colab.research.google.com/github/Yamana06/NYC-Taxi-Trip-Duration/blob/main/NYC_Taxi_Trip_Duration.ipynb\" target=\"_parent\"><img src=\"https://colab.research.google.com/assets/colab-badge.svg\" alt=\"Open In Colab\"/></a>"
      ]
    },
    {
      "cell_type": "markdown",
      "id": "3ac352e0",
      "metadata": {
        "id": "3ac352e0"
      },
      "source": [
        "# Import Required Libraries\n",
        "First we will import all the necessary libraries needed for analysis and visualization."
      ]
    },
    {
      "cell_type": "code",
      "source": [
        "from google.colab import drive\n",
        "drive.mount('/content/drive')"
      ],
      "metadata": {
        "colab": {
          "base_uri": "https://localhost:8080/"
        },
        "id": "JJm41ih-8kov",
        "outputId": "61a2383a-7adb-4c05-d3b8-9d69fe8f0bf3"
      },
      "id": "JJm41ih-8kov",
      "execution_count": null,
      "outputs": [
        {
          "output_type": "stream",
          "name": "stdout",
          "text": [
            "Mounted at /content/drive\n"
          ]
        }
      ]
    },
    {
      "cell_type": "code",
      "execution_count": null,
      "id": "92704765",
      "metadata": {
        "id": "92704765"
      },
      "outputs": [],
      "source": [
        "import pandas as pd\n",
        "import numpy as np\n",
        "import matplotlib.pyplot as plt\n",
        "import seaborn as sns\n",
        "import datetime\n"
      ]
    },
    {
      "cell_type": "markdown",
      "id": "1bf84406",
      "metadata": {
        "id": "1bf84406"
      },
      "source": [
        "<b>Now that we have all the necessary libraries lets load the data set. We will load it into the pandas DataFrame df."
      ]
    },
    {
      "cell_type": "code",
      "execution_count": null,
      "id": "ad6f658d",
      "metadata": {
        "id": "ad6f658d"
      },
      "outputs": [],
      "source": [
        "df=pd.read_csv(\"/content/drive/MyDrive/Project-1/NYC Taxi Data.csv\")"
      ]
    },
    {
      "cell_type": "markdown",
      "id": "e70f378c",
      "metadata": {
        "id": "e70f378c"
      },
      "source": [
        "<b>We read the dataset into the DataFrame df and will have a look at the shape , columns , column data types and the first 5 rows of the data. This will give a brief overview of the data at hand."
      ]
    },
    {
      "cell_type": "code",
      "execution_count": null,
      "id": "a502b211",
      "metadata": {
        "colab": {
          "base_uri": "https://localhost:8080/"
        },
        "id": "a502b211",
        "outputId": "8af55560-07d9-4353-c56b-d2533e654d6d"
      },
      "outputs": [
        {
          "output_type": "execute_result",
          "data": {
            "text/plain": [
              "(1458644, 11)"
            ]
          },
          "metadata": {},
          "execution_count": 4
        }
      ],
      "source": [
        "df.shape # This returns the number of rows and columns\n"
      ]
    },
    {
      "cell_type": "code",
      "execution_count": null,
      "id": "e5f09026",
      "metadata": {
        "colab": {
          "base_uri": "https://localhost:8080/"
        },
        "id": "e5f09026",
        "outputId": "68fac5d7-a969-40dd-a37a-ad7e23f62a34"
      },
      "outputs": [
        {
          "output_type": "execute_result",
          "data": {
            "text/plain": [
              "Index(['id', 'vendor_id', 'pickup_datetime', 'dropoff_datetime',\n",
              "       'passenger_count', 'pickup_longitude', 'pickup_latitude',\n",
              "       'dropoff_longitude', 'dropoff_latitude', 'store_and_fwd_flag',\n",
              "       'trip_duration'],\n",
              "      dtype='object')"
            ]
          },
          "metadata": {},
          "execution_count": 5
        }
      ],
      "source": [
        "df.columns # This returns the column names"
      ]
    },
    {
      "cell_type": "markdown",
      "id": "3b40e7e4",
      "metadata": {
        "id": "3b40e7e4"
      },
      "source": [
        "#### Here’s what we know about the columns:<br>\n",
        "\n",
        "<b>Demographic information of Customer & Vendor:<br>\n",
        "- id : a unique identifier for each trip<br>\n",
        "- vendor_id : a code indicating the provider associated with the trip record<br>\n",
        "- passenger_count : the number of passengers in the vehicle (driver entered value)<br>\n",
        "\n",
        "<b>Information about the Trip:<br>\n",
        "- pickup_longitude : date and time when the meter was engaged<br>\n",
        "- pickup_latitude : date and time when the meter was disengaged<br>\n",
        "- dropoff_longitude : the longitude where the meter was disengaged<br>\n",
        "- dropoff_latitude : the latitude where the meter was disengaged<br>\n",
        "- store_and_fwd_flag : This flag indicates whether the trip record was held in vehicle memory before sending to the vendor because the vehicle did not have a connection to the server (Y=store and forward; N=not a store and forward trip)<br>\n",
        "- trip_duration : (target) duration of the trip in seconds<br>\n",
        "<br>\n",
        "- <b>Thus we have a data set with 1458644 rows and 11 columns. There are 10 features and 1 target variable which is trip_duration"
      ]
    },
    {
      "cell_type": "code",
      "execution_count": null,
      "id": "a981fc04",
      "metadata": {
        "colab": {
          "base_uri": "https://localhost:8080/"
        },
        "id": "a981fc04",
        "outputId": "46e49fdf-f67a-4aba-8589-0f20ebf4f222"
      },
      "outputs": [
        {
          "output_type": "execute_result",
          "data": {
            "text/plain": [
              "id                     object\n",
              "vendor_id               int64\n",
              "pickup_datetime        object\n",
              "dropoff_datetime       object\n",
              "passenger_count         int64\n",
              "pickup_longitude      float64\n",
              "pickup_latitude       float64\n",
              "dropoff_longitude     float64\n",
              "dropoff_latitude      float64\n",
              "store_and_fwd_flag     object\n",
              "trip_duration           int64\n",
              "dtype: object"
            ]
          },
          "metadata": {},
          "execution_count": 6
        }
      ],
      "source": [
        "df.dtypes #This returns the data type of the columns"
      ]
    },
    {
      "cell_type": "code",
      "execution_count": null,
      "id": "527b8886",
      "metadata": {
        "colab": {
          "base_uri": "https://localhost:8080/",
          "height": 357
        },
        "id": "527b8886",
        "outputId": "f0322dc9-33e6-4bf4-a76a-73f5c0240b5a"
      },
      "outputs": [
        {
          "output_type": "execute_result",
          "data": {
            "text/plain": [
              "          id  vendor_id      pickup_datetime     dropoff_datetime  \\\n",
              "0  id2875421          2  2016-03-14 17:24:55  2016-03-14 17:32:30   \n",
              "1  id2377394          1  2016-06-12 00:43:35  2016-06-12 00:54:38   \n",
              "2  id3858529          2  2016-01-19 11:35:24  2016-01-19 12:10:48   \n",
              "3  id3504673          2  2016-04-06 19:32:31  2016-04-06 19:39:40   \n",
              "4  id2181028          2  2016-03-26 13:30:55  2016-03-26 13:38:10   \n",
              "\n",
              "   passenger_count  pickup_longitude  pickup_latitude  dropoff_longitude  \\\n",
              "0                1        -73.982155        40.767937         -73.964630   \n",
              "1                1        -73.980415        40.738564         -73.999481   \n",
              "2                1        -73.979027        40.763939         -74.005333   \n",
              "3                1        -74.010040        40.719971         -74.012268   \n",
              "4                1        -73.973053        40.793209         -73.972923   \n",
              "\n",
              "   dropoff_latitude store_and_fwd_flag  trip_duration  \n",
              "0         40.765602                  N            455  \n",
              "1         40.731152                  N            663  \n",
              "2         40.710087                  N           2124  \n",
              "3         40.706718                  N            429  \n",
              "4         40.782520                  N            435  "
            ],
            "text/html": [
              "\n",
              "  <div id=\"df-231bd58a-994e-4d60-bbcf-0d9adfa35983\">\n",
              "    <div class=\"colab-df-container\">\n",
              "      <div>\n",
              "<style scoped>\n",
              "    .dataframe tbody tr th:only-of-type {\n",
              "        vertical-align: middle;\n",
              "    }\n",
              "\n",
              "    .dataframe tbody tr th {\n",
              "        vertical-align: top;\n",
              "    }\n",
              "\n",
              "    .dataframe thead th {\n",
              "        text-align: right;\n",
              "    }\n",
              "</style>\n",
              "<table border=\"1\" class=\"dataframe\">\n",
              "  <thead>\n",
              "    <tr style=\"text-align: right;\">\n",
              "      <th></th>\n",
              "      <th>id</th>\n",
              "      <th>vendor_id</th>\n",
              "      <th>pickup_datetime</th>\n",
              "      <th>dropoff_datetime</th>\n",
              "      <th>passenger_count</th>\n",
              "      <th>pickup_longitude</th>\n",
              "      <th>pickup_latitude</th>\n",
              "      <th>dropoff_longitude</th>\n",
              "      <th>dropoff_latitude</th>\n",
              "      <th>store_and_fwd_flag</th>\n",
              "      <th>trip_duration</th>\n",
              "    </tr>\n",
              "  </thead>\n",
              "  <tbody>\n",
              "    <tr>\n",
              "      <th>0</th>\n",
              "      <td>id2875421</td>\n",
              "      <td>2</td>\n",
              "      <td>2016-03-14 17:24:55</td>\n",
              "      <td>2016-03-14 17:32:30</td>\n",
              "      <td>1</td>\n",
              "      <td>-73.982155</td>\n",
              "      <td>40.767937</td>\n",
              "      <td>-73.964630</td>\n",
              "      <td>40.765602</td>\n",
              "      <td>N</td>\n",
              "      <td>455</td>\n",
              "    </tr>\n",
              "    <tr>\n",
              "      <th>1</th>\n",
              "      <td>id2377394</td>\n",
              "      <td>1</td>\n",
              "      <td>2016-06-12 00:43:35</td>\n",
              "      <td>2016-06-12 00:54:38</td>\n",
              "      <td>1</td>\n",
              "      <td>-73.980415</td>\n",
              "      <td>40.738564</td>\n",
              "      <td>-73.999481</td>\n",
              "      <td>40.731152</td>\n",
              "      <td>N</td>\n",
              "      <td>663</td>\n",
              "    </tr>\n",
              "    <tr>\n",
              "      <th>2</th>\n",
              "      <td>id3858529</td>\n",
              "      <td>2</td>\n",
              "      <td>2016-01-19 11:35:24</td>\n",
              "      <td>2016-01-19 12:10:48</td>\n",
              "      <td>1</td>\n",
              "      <td>-73.979027</td>\n",
              "      <td>40.763939</td>\n",
              "      <td>-74.005333</td>\n",
              "      <td>40.710087</td>\n",
              "      <td>N</td>\n",
              "      <td>2124</td>\n",
              "    </tr>\n",
              "    <tr>\n",
              "      <th>3</th>\n",
              "      <td>id3504673</td>\n",
              "      <td>2</td>\n",
              "      <td>2016-04-06 19:32:31</td>\n",
              "      <td>2016-04-06 19:39:40</td>\n",
              "      <td>1</td>\n",
              "      <td>-74.010040</td>\n",
              "      <td>40.719971</td>\n",
              "      <td>-74.012268</td>\n",
              "      <td>40.706718</td>\n",
              "      <td>N</td>\n",
              "      <td>429</td>\n",
              "    </tr>\n",
              "    <tr>\n",
              "      <th>4</th>\n",
              "      <td>id2181028</td>\n",
              "      <td>2</td>\n",
              "      <td>2016-03-26 13:30:55</td>\n",
              "      <td>2016-03-26 13:38:10</td>\n",
              "      <td>1</td>\n",
              "      <td>-73.973053</td>\n",
              "      <td>40.793209</td>\n",
              "      <td>-73.972923</td>\n",
              "      <td>40.782520</td>\n",
              "      <td>N</td>\n",
              "      <td>435</td>\n",
              "    </tr>\n",
              "  </tbody>\n",
              "</table>\n",
              "</div>\n",
              "      <button class=\"colab-df-convert\" onclick=\"convertToInteractive('df-231bd58a-994e-4d60-bbcf-0d9adfa35983')\"\n",
              "              title=\"Convert this dataframe to an interactive table.\"\n",
              "              style=\"display:none;\">\n",
              "        \n",
              "  <svg xmlns=\"http://www.w3.org/2000/svg\" height=\"24px\"viewBox=\"0 0 24 24\"\n",
              "       width=\"24px\">\n",
              "    <path d=\"M0 0h24v24H0V0z\" fill=\"none\"/>\n",
              "    <path d=\"M18.56 5.44l.94 2.06.94-2.06 2.06-.94-2.06-.94-.94-2.06-.94 2.06-2.06.94zm-11 1L8.5 8.5l.94-2.06 2.06-.94-2.06-.94L8.5 2.5l-.94 2.06-2.06.94zm10 10l.94 2.06.94-2.06 2.06-.94-2.06-.94-.94-2.06-.94 2.06-2.06.94z\"/><path d=\"M17.41 7.96l-1.37-1.37c-.4-.4-.92-.59-1.43-.59-.52 0-1.04.2-1.43.59L10.3 9.45l-7.72 7.72c-.78.78-.78 2.05 0 2.83L4 21.41c.39.39.9.59 1.41.59.51 0 1.02-.2 1.41-.59l7.78-7.78 2.81-2.81c.8-.78.8-2.07 0-2.86zM5.41 20L4 18.59l7.72-7.72 1.47 1.35L5.41 20z\"/>\n",
              "  </svg>\n",
              "      </button>\n",
              "      \n",
              "  <style>\n",
              "    .colab-df-container {\n",
              "      display:flex;\n",
              "      flex-wrap:wrap;\n",
              "      gap: 12px;\n",
              "    }\n",
              "\n",
              "    .colab-df-convert {\n",
              "      background-color: #E8F0FE;\n",
              "      border: none;\n",
              "      border-radius: 50%;\n",
              "      cursor: pointer;\n",
              "      display: none;\n",
              "      fill: #1967D2;\n",
              "      height: 32px;\n",
              "      padding: 0 0 0 0;\n",
              "      width: 32px;\n",
              "    }\n",
              "\n",
              "    .colab-df-convert:hover {\n",
              "      background-color: #E2EBFA;\n",
              "      box-shadow: 0px 1px 2px rgba(60, 64, 67, 0.3), 0px 1px 3px 1px rgba(60, 64, 67, 0.15);\n",
              "      fill: #174EA6;\n",
              "    }\n",
              "\n",
              "    [theme=dark] .colab-df-convert {\n",
              "      background-color: #3B4455;\n",
              "      fill: #D2E3FC;\n",
              "    }\n",
              "\n",
              "    [theme=dark] .colab-df-convert:hover {\n",
              "      background-color: #434B5C;\n",
              "      box-shadow: 0px 1px 3px 1px rgba(0, 0, 0, 0.15);\n",
              "      filter: drop-shadow(0px 1px 2px rgba(0, 0, 0, 0.3));\n",
              "      fill: #FFFFFF;\n",
              "    }\n",
              "  </style>\n",
              "\n",
              "      <script>\n",
              "        const buttonEl =\n",
              "          document.querySelector('#df-231bd58a-994e-4d60-bbcf-0d9adfa35983 button.colab-df-convert');\n",
              "        buttonEl.style.display =\n",
              "          google.colab.kernel.accessAllowed ? 'block' : 'none';\n",
              "\n",
              "        async function convertToInteractive(key) {\n",
              "          const element = document.querySelector('#df-231bd58a-994e-4d60-bbcf-0d9adfa35983');\n",
              "          const dataTable =\n",
              "            await google.colab.kernel.invokeFunction('convertToInteractive',\n",
              "                                                     [key], {});\n",
              "          if (!dataTable) return;\n",
              "\n",
              "          const docLinkHtml = 'Like what you see? Visit the ' +\n",
              "            '<a target=\"_blank\" href=https://colab.research.google.com/notebooks/data_table.ipynb>data table notebook</a>'\n",
              "            + ' to learn more about interactive tables.';\n",
              "          element.innerHTML = '';\n",
              "          dataTable['output_type'] = 'display_data';\n",
              "          await google.colab.output.renderOutput(dataTable, element);\n",
              "          const docLink = document.createElement('div');\n",
              "          docLink.innerHTML = docLinkHtml;\n",
              "          element.appendChild(docLink);\n",
              "        }\n",
              "      </script>\n",
              "    </div>\n",
              "  </div>\n",
              "  "
            ]
          },
          "metadata": {},
          "execution_count": 7
        }
      ],
      "source": [
        "df.head() #This returns the first 5 rows of the Data set"
      ]
    },
    {
      "cell_type": "markdown",
      "id": "dbe006f9",
      "metadata": {
        "id": "dbe006f9"
      },
      "source": [
        "- Thus we get a glimpse of the data set by looking at the first 5 rows returned by df.head(). Optionally we can specify the number of rows to be returned, by sending it as a parameter to the head() function."
      ]
    },
    {
      "cell_type": "markdown",
      "id": "d1f1c739",
      "metadata": {
        "id": "d1f1c739"
      },
      "source": [
        "<b>Some observations about the data:<br>\n",
        "- The columns id and vendor_id are nominal.<br>\n",
        "- The columns pickup_datetime and dropoff_datetime are stored as object which must be converted to datetime for better analysis.<br>\n",
        "- The column store_and_fwd_flag is categorical<br>"
      ]
    },
    {
      "cell_type": "markdown",
      "id": "9a50196c",
      "metadata": {
        "id": "9a50196c"
      },
      "source": [
        "<b>Lets look at the numerical columns :"
      ]
    },
    {
      "cell_type": "code",
      "execution_count": null,
      "id": "c4377920",
      "metadata": {
        "id": "c4377920",
        "outputId": "bc2e87f4-6ca2-42aa-f145-d5a20c0d5d96"
      },
      "outputs": [
        {
          "name": "stdout",
          "output_type": "stream",
          "text": [
            "id                    1458644\n",
            "vendor_id             1458644\n",
            "pickup_datetime       1458644\n",
            "dropoff_datetime      1458644\n",
            "passenger_count       1458644\n",
            "pickup_longitude      1458644\n",
            "pickup_latitude       1458644\n",
            "dropoff_longitude     1458644\n",
            "dropoff_latitude      1458644\n",
            "store_and_fwd_flag    1458644\n",
            "trip_duration         1458644\n",
            "dtype: int64\n"
          ]
        }
      ],
      "source": [
        "print(df.count())"
      ]
    },
    {
      "cell_type": "code",
      "execution_count": null,
      "id": "3e7d9536",
      "metadata": {
        "id": "3e7d9536",
        "outputId": "e374cc3e-abca-4f03-c43a-4fe97ef3258e"
      },
      "outputs": [
        {
          "data": {
            "text/html": [
              "<div>\n",
              "<style scoped>\n",
              "    .dataframe tbody tr th:only-of-type {\n",
              "        vertical-align: middle;\n",
              "    }\n",
              "\n",
              "    .dataframe tbody tr th {\n",
              "        vertical-align: top;\n",
              "    }\n",
              "\n",
              "    .dataframe thead th {\n",
              "        text-align: right;\n",
              "    }\n",
              "</style>\n",
              "<table border=\"1\" class=\"dataframe\">\n",
              "  <thead>\n",
              "    <tr style=\"text-align: right;\">\n",
              "      <th></th>\n",
              "      <th>vendor_id</th>\n",
              "      <th>passenger_count</th>\n",
              "      <th>pickup_longitude</th>\n",
              "      <th>pickup_latitude</th>\n",
              "      <th>dropoff_longitude</th>\n",
              "      <th>dropoff_latitude</th>\n",
              "      <th>trip_duration</th>\n",
              "    </tr>\n",
              "  </thead>\n",
              "  <tbody>\n",
              "    <tr>\n",
              "      <th>count</th>\n",
              "      <td>1458644.00</td>\n",
              "      <td>1458644.00</td>\n",
              "      <td>1458644.00</td>\n",
              "      <td>1458644.00</td>\n",
              "      <td>1458644.00</td>\n",
              "      <td>1458644.00</td>\n",
              "      <td>1458644.00</td>\n",
              "    </tr>\n",
              "    <tr>\n",
              "      <th>mean</th>\n",
              "      <td>1.53</td>\n",
              "      <td>1.66</td>\n",
              "      <td>-73.97</td>\n",
              "      <td>40.75</td>\n",
              "      <td>-73.97</td>\n",
              "      <td>40.75</td>\n",
              "      <td>959.49</td>\n",
              "    </tr>\n",
              "    <tr>\n",
              "      <th>std</th>\n",
              "      <td>0.50</td>\n",
              "      <td>1.31</td>\n",
              "      <td>0.07</td>\n",
              "      <td>0.03</td>\n",
              "      <td>0.07</td>\n",
              "      <td>0.04</td>\n",
              "      <td>5237.43</td>\n",
              "    </tr>\n",
              "    <tr>\n",
              "      <th>min</th>\n",
              "      <td>1.00</td>\n",
              "      <td>0.00</td>\n",
              "      <td>-121.93</td>\n",
              "      <td>34.36</td>\n",
              "      <td>-121.93</td>\n",
              "      <td>32.18</td>\n",
              "      <td>1.00</td>\n",
              "    </tr>\n",
              "    <tr>\n",
              "      <th>25%</th>\n",
              "      <td>1.00</td>\n",
              "      <td>1.00</td>\n",
              "      <td>-73.99</td>\n",
              "      <td>40.74</td>\n",
              "      <td>-73.99</td>\n",
              "      <td>40.74</td>\n",
              "      <td>397.00</td>\n",
              "    </tr>\n",
              "    <tr>\n",
              "      <th>50%</th>\n",
              "      <td>2.00</td>\n",
              "      <td>1.00</td>\n",
              "      <td>-73.98</td>\n",
              "      <td>40.75</td>\n",
              "      <td>-73.98</td>\n",
              "      <td>40.75</td>\n",
              "      <td>662.00</td>\n",
              "    </tr>\n",
              "    <tr>\n",
              "      <th>75%</th>\n",
              "      <td>2.00</td>\n",
              "      <td>2.00</td>\n",
              "      <td>-73.97</td>\n",
              "      <td>40.77</td>\n",
              "      <td>-73.96</td>\n",
              "      <td>40.77</td>\n",
              "      <td>1075.00</td>\n",
              "    </tr>\n",
              "    <tr>\n",
              "      <th>max</th>\n",
              "      <td>2.00</td>\n",
              "      <td>9.00</td>\n",
              "      <td>-61.34</td>\n",
              "      <td>51.88</td>\n",
              "      <td>-61.34</td>\n",
              "      <td>43.92</td>\n",
              "      <td>3526282.00</td>\n",
              "    </tr>\n",
              "  </tbody>\n",
              "</table>\n",
              "</div>"
            ],
            "text/plain": [
              "        vendor_id passenger_count pickup_longitude pickup_latitude  \\\n",
              "count  1458644.00      1458644.00       1458644.00      1458644.00   \n",
              "mean         1.53            1.66           -73.97           40.75   \n",
              "std          0.50            1.31             0.07            0.03   \n",
              "min          1.00            0.00          -121.93           34.36   \n",
              "25%          1.00            1.00           -73.99           40.74   \n",
              "50%          2.00            1.00           -73.98           40.75   \n",
              "75%          2.00            2.00           -73.97           40.77   \n",
              "max          2.00            9.00           -61.34           51.88   \n",
              "\n",
              "      dropoff_longitude dropoff_latitude trip_duration  \n",
              "count        1458644.00       1458644.00    1458644.00  \n",
              "mean             -73.97            40.75        959.49  \n",
              "std                0.07             0.04       5237.43  \n",
              "min             -121.93            32.18          1.00  \n",
              "25%              -73.99            40.74        397.00  \n",
              "50%              -73.98            40.75        662.00  \n",
              "75%              -73.96            40.77       1075.00  \n",
              "max              -61.34            43.92    3526282.00  "
            ]
          },
          "execution_count": 56,
          "metadata": {},
          "output_type": "execute_result"
        }
      ],
      "source": [
        "df.describe().apply(lambda s:s.apply('{0:.2f}'.format))"
      ]
    },
    {
      "cell_type": "code",
      "execution_count": null,
      "id": "e42ef111",
      "metadata": {
        "id": "e42ef111",
        "outputId": "60c7a92d-2505-4803-b6af-ab2a5babb8d5"
      },
      "outputs": [
        {
          "data": {
            "text/html": [
              "<div>\n",
              "<style scoped>\n",
              "    .dataframe tbody tr th:only-of-type {\n",
              "        vertical-align: middle;\n",
              "    }\n",
              "\n",
              "    .dataframe tbody tr th {\n",
              "        vertical-align: top;\n",
              "    }\n",
              "\n",
              "    .dataframe thead th {\n",
              "        text-align: right;\n",
              "    }\n",
              "</style>\n",
              "<table border=\"1\" class=\"dataframe\">\n",
              "  <thead>\n",
              "    <tr style=\"text-align: right;\">\n",
              "      <th></th>\n",
              "      <th>vendor_id</th>\n",
              "      <th>passenger_count</th>\n",
              "      <th>pickup_longitude</th>\n",
              "      <th>pickup_latitude</th>\n",
              "      <th>dropoff_longitude</th>\n",
              "      <th>dropoff_latitude</th>\n",
              "      <th>trip_duration</th>\n",
              "    </tr>\n",
              "  </thead>\n",
              "  <tbody>\n",
              "    <tr>\n",
              "      <th>count</th>\n",
              "      <td>1.458644e+06</td>\n",
              "      <td>1.458644e+06</td>\n",
              "      <td>1.458644e+06</td>\n",
              "      <td>1.458644e+06</td>\n",
              "      <td>1.458644e+06</td>\n",
              "      <td>1.458644e+06</td>\n",
              "      <td>1.458644e+06</td>\n",
              "    </tr>\n",
              "    <tr>\n",
              "      <th>mean</th>\n",
              "      <td>1.534950e+00</td>\n",
              "      <td>1.664530e+00</td>\n",
              "      <td>-7.397349e+01</td>\n",
              "      <td>4.075092e+01</td>\n",
              "      <td>-7.397342e+01</td>\n",
              "      <td>4.075180e+01</td>\n",
              "      <td>9.594923e+02</td>\n",
              "    </tr>\n",
              "    <tr>\n",
              "      <th>std</th>\n",
              "      <td>4.987772e-01</td>\n",
              "      <td>1.314242e+00</td>\n",
              "      <td>7.090186e-02</td>\n",
              "      <td>3.288119e-02</td>\n",
              "      <td>7.064327e-02</td>\n",
              "      <td>3.589056e-02</td>\n",
              "      <td>5.237432e+03</td>\n",
              "    </tr>\n",
              "    <tr>\n",
              "      <th>min</th>\n",
              "      <td>1.000000e+00</td>\n",
              "      <td>0.000000e+00</td>\n",
              "      <td>-1.219333e+02</td>\n",
              "      <td>3.435970e+01</td>\n",
              "      <td>-1.219333e+02</td>\n",
              "      <td>3.218114e+01</td>\n",
              "      <td>1.000000e+00</td>\n",
              "    </tr>\n",
              "    <tr>\n",
              "      <th>25%</th>\n",
              "      <td>1.000000e+00</td>\n",
              "      <td>1.000000e+00</td>\n",
              "      <td>-7.399187e+01</td>\n",
              "      <td>4.073735e+01</td>\n",
              "      <td>-7.399133e+01</td>\n",
              "      <td>4.073588e+01</td>\n",
              "      <td>3.970000e+02</td>\n",
              "    </tr>\n",
              "    <tr>\n",
              "      <th>50%</th>\n",
              "      <td>2.000000e+00</td>\n",
              "      <td>1.000000e+00</td>\n",
              "      <td>-7.398174e+01</td>\n",
              "      <td>4.075410e+01</td>\n",
              "      <td>-7.397975e+01</td>\n",
              "      <td>4.075452e+01</td>\n",
              "      <td>6.620000e+02</td>\n",
              "    </tr>\n",
              "    <tr>\n",
              "      <th>75%</th>\n",
              "      <td>2.000000e+00</td>\n",
              "      <td>2.000000e+00</td>\n",
              "      <td>-7.396733e+01</td>\n",
              "      <td>4.076836e+01</td>\n",
              "      <td>-7.396301e+01</td>\n",
              "      <td>4.076981e+01</td>\n",
              "      <td>1.075000e+03</td>\n",
              "    </tr>\n",
              "    <tr>\n",
              "      <th>max</th>\n",
              "      <td>2.000000e+00</td>\n",
              "      <td>9.000000e+00</td>\n",
              "      <td>-6.133553e+01</td>\n",
              "      <td>5.188108e+01</td>\n",
              "      <td>-6.133553e+01</td>\n",
              "      <td>4.392103e+01</td>\n",
              "      <td>3.526282e+06</td>\n",
              "    </tr>\n",
              "  </tbody>\n",
              "</table>\n",
              "</div>"
            ],
            "text/plain": [
              "          vendor_id  passenger_count  pickup_longitude  pickup_latitude  \\\n",
              "count  1.458644e+06     1.458644e+06      1.458644e+06     1.458644e+06   \n",
              "mean   1.534950e+00     1.664530e+00     -7.397349e+01     4.075092e+01   \n",
              "std    4.987772e-01     1.314242e+00      7.090186e-02     3.288119e-02   \n",
              "min    1.000000e+00     0.000000e+00     -1.219333e+02     3.435970e+01   \n",
              "25%    1.000000e+00     1.000000e+00     -7.399187e+01     4.073735e+01   \n",
              "50%    2.000000e+00     1.000000e+00     -7.398174e+01     4.075410e+01   \n",
              "75%    2.000000e+00     2.000000e+00     -7.396733e+01     4.076836e+01   \n",
              "max    2.000000e+00     9.000000e+00     -6.133553e+01     5.188108e+01   \n",
              "\n",
              "       dropoff_longitude  dropoff_latitude  trip_duration  \n",
              "count       1.458644e+06      1.458644e+06   1.458644e+06  \n",
              "mean       -7.397342e+01      4.075180e+01   9.594923e+02  \n",
              "std         7.064327e-02      3.589056e-02   5.237432e+03  \n",
              "min        -1.219333e+02      3.218114e+01   1.000000e+00  \n",
              "25%        -7.399133e+01      4.073588e+01   3.970000e+02  \n",
              "50%        -7.397975e+01      4.075452e+01   6.620000e+02  \n",
              "75%        -7.396301e+01      4.076981e+01   1.075000e+03  \n",
              "max        -6.133553e+01      4.392103e+01   3.526282e+06  "
            ]
          },
          "execution_count": 53,
          "metadata": {},
          "output_type": "execute_result"
        }
      ],
      "source": [
        "df.describe() # This returns a statistical summary of the numerical columns"
      ]
    },
    {
      "cell_type": "markdown",
      "id": "1cebfe64",
      "metadata": {
        "id": "1cebfe64"
      },
      "source": [
        "<b>The returned table gives certain insights:<br>\n",
        "- There are no numerical columns with missing data\n",
        "- The passenger count varies between 1 and 9 with most people number of people being 1 or 2\n",
        "- The trip duration varying from 1s to 3526282s~ 979 hrs. There are definitely some outliers present which must be treated.\n",
        "  "
      ]
    },
    {
      "cell_type": "markdown",
      "id": "064d2ce2",
      "metadata": {
        "id": "064d2ce2"
      },
      "source": [
        "<b>Lets have a quick look at the non-numerical columns:\n"
      ]
    },
    {
      "cell_type": "code",
      "execution_count": null,
      "id": "17ac2b4b",
      "metadata": {
        "id": "17ac2b4b",
        "outputId": "4ae41bca-b817-4589-a9c7-bf94f00d50fd"
      },
      "outputs": [
        {
          "data": {
            "text/html": [
              "<div>\n",
              "<style scoped>\n",
              "    .dataframe tbody tr th:only-of-type {\n",
              "        vertical-align: middle;\n",
              "    }\n",
              "\n",
              "    .dataframe tbody tr th {\n",
              "        vertical-align: top;\n",
              "    }\n",
              "\n",
              "    .dataframe thead th {\n",
              "        text-align: right;\n",
              "    }\n",
              "</style>\n",
              "<table border=\"1\" class=\"dataframe\">\n",
              "  <thead>\n",
              "    <tr style=\"text-align: right;\">\n",
              "      <th></th>\n",
              "      <th>id</th>\n",
              "      <th>pickup_datetime</th>\n",
              "      <th>dropoff_datetime</th>\n",
              "      <th>store_and_fwd_flag</th>\n",
              "    </tr>\n",
              "  </thead>\n",
              "  <tbody>\n",
              "    <tr>\n",
              "      <th>count</th>\n",
              "      <td>1458644</td>\n",
              "      <td>1458644</td>\n",
              "      <td>1458644</td>\n",
              "      <td>1458644</td>\n",
              "    </tr>\n",
              "    <tr>\n",
              "      <th>unique</th>\n",
              "      <td>1458644</td>\n",
              "      <td>1380222</td>\n",
              "      <td>1380377</td>\n",
              "      <td>2</td>\n",
              "    </tr>\n",
              "    <tr>\n",
              "      <th>top</th>\n",
              "      <td>id2875421</td>\n",
              "      <td>2016-03-04 08:07:34</td>\n",
              "      <td>2016-02-19 19:25:04</td>\n",
              "      <td>N</td>\n",
              "    </tr>\n",
              "    <tr>\n",
              "      <th>freq</th>\n",
              "      <td>1</td>\n",
              "      <td>5</td>\n",
              "      <td>5</td>\n",
              "      <td>1450599</td>\n",
              "    </tr>\n",
              "  </tbody>\n",
              "</table>\n",
              "</div>"
            ],
            "text/plain": [
              "               id      pickup_datetime     dropoff_datetime store_and_fwd_flag\n",
              "count     1458644              1458644              1458644            1458644\n",
              "unique    1458644              1380222              1380377                  2\n",
              "top     id2875421  2016-03-04 08:07:34  2016-02-19 19:25:04                  N\n",
              "freq            1                    5                    5            1450599"
            ]
          },
          "execution_count": 50,
          "metadata": {},
          "output_type": "execute_result"
        }
      ],
      "source": [
        "df.describe(include=object)"
      ]
    },
    {
      "cell_type": "code",
      "execution_count": null,
      "id": "b75ae026",
      "metadata": {
        "id": "b75ae026",
        "outputId": "651691d3-369b-4bc8-cae1-f79e567e17ff"
      },
      "outputs": [
        {
          "name": "stdout",
          "output_type": "stream",
          "text": [
            "id                    1458644\n",
            "pickup_datetime       1458644\n",
            "dropoff_datetime      1458644\n",
            "store_and_fwd_flag    1458644\n",
            "dtype: int64\n"
          ]
        }
      ],
      "source": [
        "non_num_cols=['id','pickup_datetime','dropoff_datetime','store_and_fwd_flag']\n",
        "print(df[non_num_cols].count()) # The count of the specified columns are returned"
      ]
    },
    {
      "cell_type": "markdown",
      "id": "cadc065c",
      "metadata": {
        "id": "cadc065c"
      },
      "source": [
        "- There are no missing values for the non numeric columns as well.\n",
        "\n",
        "- The 2 columns pickup_datetime and dropoff_datetime are now converted to datetime format which makes analysis of date and time data much more easier."
      ]
    },
    {
      "cell_type": "code",
      "execution_count": null,
      "id": "6dca8c94",
      "metadata": {
        "id": "6dca8c94"
      },
      "outputs": [],
      "source": [
        "df['pickup_datetime']=pd.to_datetime(df['pickup_datetime'])\n",
        "df['dropoff_datetime']=pd.to_datetime(df['dropoff_datetime'])"
      ]
    },
    {
      "cell_type": "markdown",
      "id": "2d4eb39f",
      "metadata": {
        "id": "2d4eb39f"
      },
      "source": [
        "# Univariate Analysis\n",
        "\n",
        "Lets have a look at the distribution of various variables in the Data set."
      ]
    },
    {
      "cell_type": "markdown",
      "id": "efe23e84",
      "metadata": {
        "id": "efe23e84"
      },
      "source": [
        "## Passenger Count"
      ]
    },
    {
      "cell_type": "code",
      "execution_count": null,
      "id": "585d1608",
      "metadata": {
        "id": "585d1608",
        "outputId": "08356e41-30f2-4b32-9267-28ae3797caef"
      },
      "outputs": [
        {
          "name": "stderr",
          "output_type": "stream",
          "text": [
            "C:\\Users\\yaman\\anaconda3\\lib\\site-packages\\seaborn\\distributions.py:2619: FutureWarning: `distplot` is a deprecated function and will be removed in a future version. Please adapt your code to use either `displot` (a figure-level function with similar flexibility) or `histplot` (an axes-level function for histograms).\n",
            "  warnings.warn(msg, FutureWarning)\n"
          ]
        },
        {
          "data": {
            "image/png": "[encoded data removed]",
            "text/plain": [
              "<Figure size 432x288 with 1 Axes>"
            ]
          },
          "metadata": {
            "needs_background": "light"
          },
          "output_type": "display_data"
        }
      ],
      "source": [
        "# A histogram of the #of passengers in each trip\n",
        "sns.distplot(df['passenger_count'],kde=False)\n",
        "plt.title('Distribution of Passenger Count')\n",
        "plt.show()\n"
      ]
    },
    {
      "cell_type": "markdown",
      "id": "86bddea5",
      "metadata": {
        "id": "86bddea5"
      },
      "source": [
        "Here we see that the mostly 1 or 2 passengers avail the cab. The instance of large group of people travelling together is rare."
      ]
    },
    {
      "cell_type": "markdown",
      "id": "7df9daa2",
      "metadata": {
        "id": "7df9daa2"
      },
      "source": [
        "<b>The distribution of Pickup and Drop Off day of the week"
      ]
    },
    {
      "cell_type": "code",
      "execution_count": null,
      "id": "5afa3ccd",
      "metadata": {
        "id": "5afa3ccd",
        "outputId": "69afe3d5-795f-4b49-8651-6f41c6e50614"
      },
      "outputs": [
        {
          "name": "stdout",
          "output_type": "stream",
          "text": [
            "1380222\n",
            "1380377\n"
          ]
        }
      ],
      "source": [
        "print(df['pickup_datetime'].nunique())\n",
        "print(df['dropoff_datetime'].nunique())"
      ]
    },
    {
      "cell_type": "markdown",
      "id": "833d054a",
      "metadata": {
        "id": "833d054a"
      },
      "source": [
        "- The returned values are 1380222 and 1380377. This shows that there are many different pickup and drop off dates in these 2 columns.\n"
      ]
    },
    {
      "cell_type": "markdown",
      "id": "0a6f7ed6",
      "metadata": {
        "id": "0a6f7ed6"
      },
      "source": [
        "<b>So its better to convert these dates into days of the week so a pattern can be found.\n"
      ]
    },
    {
      "cell_type": "code",
      "execution_count": null,
      "id": "b65f1c5b",
      "metadata": {
        "id": "b65f1c5b"
      },
      "outputs": [],
      "source": [
        "df['pickup_day']=df['pickup_datetime'].dt.day_name()\n",
        "df['dropoff_day']=df['dropoff_datetime'].dt.day_name()"
      ]
    },
    {
      "cell_type": "markdown",
      "id": "2085013c",
      "metadata": {
        "id": "2085013c"
      },
      "source": [
        "<b>Now lets look at the distribution of the different days of week"
      ]
    },
    {
      "cell_type": "code",
      "execution_count": null,
      "id": "3b2166dc",
      "metadata": {
        "id": "3b2166dc",
        "outputId": "ee32bcc6-68ab-4bd1-89ab-62d478f7f241"
      },
      "outputs": [
        {
          "data": {
            "text/plain": [
              "Friday       223533\n",
              "Saturday     220868\n",
              "Thursday     218574\n",
              "Wednesday    210136\n",
              "Tuesday      202749\n",
              "Sunday       195366\n",
              "Monday       187418\n",
              "Name: pickup_day, dtype: int64"
            ]
          },
          "execution_count": 16,
          "metadata": {},
          "output_type": "execute_result"
        }
      ],
      "source": [
        "df['pickup_day'].value_counts() # A frequency distribution of the different pickup days."
      ]
    },
    {
      "cell_type": "code",
      "execution_count": null,
      "id": "2ccbeb17",
      "metadata": {
        "id": "2ccbeb17",
        "outputId": "13519664-c537-4bfb-d098-5d754d488dd4"
      },
      "outputs": [
        {
          "data": {
            "text/plain": [
              "Friday       223031\n",
              "Saturday     220902\n",
              "Thursday     217746\n",
              "Wednesday    209790\n",
              "Tuesday      202518\n",
              "Sunday       197224\n",
              "Monday       187433\n",
              "Name: dropoff_day, dtype: int64"
            ]
          },
          "execution_count": 17,
          "metadata": {},
          "output_type": "execute_result"
        }
      ],
      "source": [
        "df['dropoff_day'].value_counts() # A frequency distribution of the different dropoff days."
      ]
    },
    {
      "cell_type": "markdown",
      "id": "59605e98",
      "metadata": {
        "id": "59605e98"
      },
      "source": [
        "<b>Thus we see most trips were taken on Friday and Monday being the least. The distribution of trip duration with the days of the week is something to look into as well."
      ]
    },
    {
      "cell_type": "markdown",
      "id": "6ed0abeb",
      "metadata": {
        "id": "6ed0abeb"
      },
      "source": [
        "## The distribution of days of the week can be seen graphically as well."
      ]
    },
    {
      "cell_type": "code",
      "execution_count": null,
      "id": "b47ccad3",
      "metadata": {
        "id": "b47ccad3",
        "outputId": "dd4bb974-6dfc-40de-ef11-a5c82acb34ab"
      },
      "outputs": [
        {
          "data": {
            "image/png": "[encoded data removed]",
            "text/plain": [
              "<Figure size 720x720 with 2 Axes>"
            ]
          },
          "metadata": {
            "needs_background": "light"
          },
          "output_type": "display_data"
        }
      ],
      "source": [
        "figure,ax=plt.subplots(nrows=2,ncols=1,figsize=(10,10))\n",
        "sns.countplot(x='pickup_day',data=df,ax=ax[0])\n",
        "ax[0].set_title('Number of Pickups done on each day of the week')\n",
        "sns.countplot(x='dropoff_day',data=df,ax=ax[1])\n",
        "ax[1].set_title('Number of dropoffs done on each day of the week')\n",
        "plt.tight_layout()"
      ]
    },
    {
      "cell_type": "markdown",
      "id": "35d55585",
      "metadata": {
        "id": "35d55585"
      },
      "source": [
        "## The distribution of Pickup and Drop Off hours of the day"
      ]
    },
    {
      "cell_type": "markdown",
      "id": "531ed5a5",
      "metadata": {
        "id": "531ed5a5"
      },
      "source": [
        "The time part is represented by hours,minutes and seconds which is difficult for the analysis thus we divide the times into 4 time zones: morning (4 hrs to 10 hrs) , midday (10 hrs to 16 hrs) , evening (16 hrs to 22 hrs) and late night (22 hrs to 4 hrs)"
      ]
    },
    {
      "cell_type": "code",
      "execution_count": null,
      "id": "44678e83",
      "metadata": {
        "id": "44678e83"
      },
      "outputs": [],
      "source": [
        "def timezone(x):\n",
        "    if x>=datetime.time(4, 0, 1) and x <=datetime.time(10, 0, 0):\n",
        "        return 'morning'\n",
        "    elif x>=datetime.time(10, 0, 1) and x <=datetime.time(16, 0, 0):\n",
        "        return 'midday'\n",
        "    elif x>=datetime.time(16, 0, 1) and x <=datetime.time(22, 0, 0):\n",
        "        return 'evening'\n",
        "    elif x>=datetime.time(22, 0, 1) or x <=datetime.time(4, 0, 0):\n",
        "        return 'late night'\n",
        "    \n",
        "df['pickup_timezone']=df['pickup_datetime'].apply(lambda x :timezone(datetime.datetime.strptime(str(x), \"%Y-%m-%d %H:%M:%S\").time()) )\n",
        "df['dropoff_timezone']=df['dropoff_datetime'].apply(lambda x :timezone(datetime.datetime.strptime(str(x), \"%Y-%m-%d %H:%M:%S\").time()) )"
      ]
    },
    {
      "cell_type": "markdown",
      "id": "4e94347d",
      "metadata": {
        "id": "4e94347d"
      },
      "source": [
        "### Lets look at the distribution of the timezones"
      ]
    },
    {
      "cell_type": "code",
      "execution_count": null,
      "id": "7fb9f9e0",
      "metadata": {
        "id": "7fb9f9e0",
        "outputId": "8c8a5fd8-e7be-4bd0-faad-20c01742d558"
      },
      "outputs": [
        {
          "data": {
            "image/png": "[encoded data removed]",
            "text/plain": [
              "<Figure size 720x360 with 2 Axes>"
            ]
          },
          "metadata": {
            "needs_background": "light"
          },
          "output_type": "display_data"
        }
      ],
      "source": [
        "# The distribution of # of pickups and drop offs done on each part of the da\n",
        "figure,ax=plt.subplots(nrows=1,ncols=2,figsize=(10,5))\n",
        "sns.countplot(x='pickup_timezone',data=df,ax=ax[0])\n",
        "ax[0].set_title('The distribution of number of pickups on each part of the day')\n",
        "sns.countplot(x='dropoff_timezone',data=df,ax=ax[1])\n",
        "ax[1].set_title('The distribution of number of dropoffs on each part of the day')\n",
        "plt.tight_layout()"
      ]
    },
    {
      "cell_type": "markdown",
      "id": "982ce8ae",
      "metadata": {
        "id": "982ce8ae"
      },
      "source": [
        "<b>Thus we observe that most pickups and drops occur in the evening. While the least drops and pickups occur during morning."
      ]
    },
    {
      "cell_type": "markdown",
      "id": "4047964f",
      "metadata": {
        "id": "4047964f"
      },
      "source": [
        "Lets have another column depicting the hour of the day when the pickup was done."
      ]
    },
    {
      "cell_type": "code",
      "execution_count": null,
      "id": "cfc0cfd5",
      "metadata": {
        "id": "cfc0cfd5",
        "outputId": "5f669738-47da-4b86-f0cc-3ce78d5724e7"
      },
      "outputs": [
        {
          "data": {
            "text/plain": [
              "Text(0.5, 1.0, 'Distribution of dropoff hours')"
            ]
          },
          "execution_count": 24,
          "metadata": {},
          "output_type": "execute_result"
        },
        {
          "data": {
            "image/png": "[encoded data removed]",
            "text/plain": [
              "<Figure size 720x360 with 2 Axes>"
            ]
          },
          "metadata": {
            "needs_background": "light"
          },
          "output_type": "display_data"
        }
      ],
      "source": [
        "# The distribution of # of pickups and drop offs done on each hour of the day\n",
        "figure,ax=plt.subplots(nrows=1,ncols=2,figsize=(10,5))\n",
        "df['pickup_hour']=df['pickup_datetime'].dt.hour\n",
        "df.pickup_hour.hist(bins=24,ax=ax[0])\n",
        "ax[0].set_title('Distribution of pickup hours')\n",
        "df['dropoff_hour']=df['dropoff_datetime'].dt.hour\n",
        "df.dropoff_hour.hist(bins=24,ax=ax[1])\n",
        "ax[1].set_title('Distribution of dropoff hours')"
      ]
    },
    {
      "cell_type": "markdown",
      "id": "bf76314b",
      "metadata": {
        "id": "bf76314b"
      },
      "source": [
        "<b>The 2 distributions are almost similar and are also aligned with the division of the hours of the day into 4 parts and their distribution done previously."
      ]
    },
    {
      "cell_type": "markdown",
      "id": "b3d50546",
      "metadata": {
        "id": "b3d50546"
      },
      "source": [
        "# Distribution of the stored and forward flag"
      ]
    },
    {
      "cell_type": "code",
      "execution_count": null,
      "id": "13275af0",
      "metadata": {
        "id": "13275af0",
        "outputId": "4b0f1fb1-99fa-4635-f89d-cf3ebf6317da"
      },
      "outputs": [
        {
          "data": {
            "text/plain": [
              "N    1450599\n",
              "Y       8045\n",
              "Name: store_and_fwd_flag, dtype: int64"
            ]
          },
          "execution_count": 25,
          "metadata": {},
          "output_type": "execute_result"
        }
      ],
      "source": [
        "df['store_and_fwd_flag'].value_counts() #The returned frequency distribution of the Yes/No Flag"
      ]
    },
    {
      "cell_type": "markdown",
      "id": "dd00dc96",
      "metadata": {
        "id": "dd00dc96"
      },
      "source": [
        "<b>The number of N flag is much larger. We can later see whether they have any relation with the duration of the trip."
      ]
    },
    {
      "cell_type": "markdown",
      "id": "1a5819e8",
      "metadata": {
        "id": "1a5819e8"
      },
      "source": [
        "# Distribution of the trip duration"
      ]
    },
    {
      "cell_type": "code",
      "execution_count": null,
      "id": "db1a1e01",
      "metadata": {
        "id": "db1a1e01",
        "outputId": "6ea64dea-74e7-4fd3-950c-c126ab879be3"
      },
      "outputs": [
        {
          "name": "stderr",
          "output_type": "stream",
          "text": [
            "C:\\Users\\yaman\\anaconda3\\lib\\site-packages\\seaborn\\distributions.py:2619: FutureWarning: `distplot` is a deprecated function and will be removed in a future version. Please adapt your code to use either `displot` (a figure-level function with similar flexibility) or `histplot` (an axes-level function for histograms).\n",
            "  warnings.warn(msg, FutureWarning)\n"
          ]
        },
        {
          "data": {
            "text/plain": [
              "Text(0.5, 1.0, 'The distribution of of the Pick Up  Duration distribution')"
            ]
          },
          "execution_count": 26,
          "metadata": {},
          "output_type": "execute_result"
        },
        {
          "data": {
            "image/png": "[encoded data removed]",
            "text/plain": [
              "<Figure size 432x288 with 1 Axes>"
            ]
          },
          "metadata": {
            "needs_background": "light"
          },
          "output_type": "display_data"
        }
      ],
      "source": [
        "# The distribution of the trip duration in seconds\n",
        "sns.distplot(df['trip_duration'],kde=False)\n",
        "plt.title('The distribution of of the Pick Up  Duration distribution')"
      ]
    },
    {
      "cell_type": "markdown",
      "id": "e9fc9ec8",
      "metadata": {
        "id": "e9fc9ec8"
      },
      "source": [
        "<b>This histogram shows extreme right skewness, hence there are outliers. Lets see the boxplot of this variable."
      ]
    },
    {
      "cell_type": "code",
      "execution_count": null,
      "id": "5b9b62a8",
      "metadata": {
        "id": "5b9b62a8",
        "outputId": "11e148d2-13e9-4b3d-d1b2-c08e71d0456b"
      },
      "outputs": [
        {
          "name": "stderr",
          "output_type": "stream",
          "text": [
            "C:\\Users\\yaman\\anaconda3\\lib\\site-packages\\seaborn\\_decorators.py:36: FutureWarning: Pass the following variable as a keyword arg: x. From version 0.12, the only valid positional argument will be `data`, and passing other arguments without an explicit keyword will result in an error or misinterpretation.\n",
            "  warnings.warn(\n"
          ]
        },
        {
          "data": {
            "text/plain": [
              "Text(0.5, 1.0, 'A boxplot depicting the pickup duration distribution')"
            ]
          },
          "execution_count": 30,
          "metadata": {},
          "output_type": "execute_result"
        },
        {
          "data": {
            "image/png": "[encoded data removed]",
            "text/plain": [
              "<Figure size 432x288 with 1 Axes>"
            ]
          },
          "metadata": {
            "needs_background": "light"
          },
          "output_type": "display_data"
        }
      ],
      "source": [
        "# The box plot of trip_duration\n",
        "sns.boxplot(df['trip_duration'], orient='horizontal')\n",
        "plt.title('A boxplot depicting the pickup duration distribution')"
      ]
    },
    {
      "cell_type": "markdown",
      "id": "45dffddb",
      "metadata": {
        "id": "45dffddb"
      },
      "source": [
        "Thus we see there is only value near 2000000 while all the others are somewhere between 0 and 100000. The one near 2000000 is definitely an outlier which must be treated."
      ]
    },
    {
      "cell_type": "markdown",
      "id": "0047e77a",
      "metadata": {
        "id": "0047e77a"
      },
      "source": [
        "<b>Lets have a look at the 10 largest value of trip_duration."
      ]
    },
    {
      "cell_type": "code",
      "execution_count": null,
      "id": "71d9cd2c",
      "metadata": {
        "id": "71d9cd2c",
        "outputId": "31d757a5-5661-4436-f9cf-13c82e4e5219"
      },
      "outputs": [
        {
          "name": "stdout",
          "output_type": "stream",
          "text": [
            "978383     3526282\n",
            "924150     2227612\n",
            "680594     2049578\n",
            "355003     1939736\n",
            "1234291      86392\n",
            "295382       86391\n",
            "73816        86390\n",
            "59891        86387\n",
            "1360439      86385\n",
            "753765       86379\n",
            "Name: trip_duration, dtype: int64\n"
          ]
        }
      ],
      "source": [
        "# The returned 10 largest value in the column\n",
        "print( df['trip_duration'].nlargest(10))"
      ]
    },
    {
      "cell_type": "markdown",
      "id": "180b5fd4",
      "metadata": {
        "id": "180b5fd4"
      },
      "source": [
        "The largest value is much greater than the 2nd and 3rd largest trip duration value. This might be because of some errors which typically occurs during data collection or this might be a legit data. Since the occurrence of such a huge value is unlikely so its better to drop this row before further analysis."
      ]
    },
    {
      "cell_type": "markdown",
      "id": "50c2a2dc",
      "metadata": {
        "id": "50c2a2dc"
      },
      "source": [
        "<b>The value can be replaced by the mode or median of trip duration as well."
      ]
    },
    {
      "cell_type": "code",
      "execution_count": null,
      "id": "c3b04013",
      "metadata": {
        "id": "c3b04013"
      },
      "outputs": [],
      "source": [
        "df=df[df.trip_duration!=df.trip_duration.max()]"
      ]
    },
    {
      "cell_type": "markdown",
      "id": "a984938b",
      "metadata": {
        "id": "a984938b"
      },
      "source": [
        "### Lets have a look at the distribution of the trip_duration after we have dropped the outlier."
      ]
    },
    {
      "cell_type": "code",
      "execution_count": null,
      "id": "fc866798",
      "metadata": {
        "id": "fc866798",
        "outputId": "b2ce5212-7648-4978-c638-c01382280ce2"
      },
      "outputs": [
        {
          "name": "stderr",
          "output_type": "stream",
          "text": [
            "C:\\Users\\yaman\\anaconda3\\lib\\site-packages\\seaborn\\distributions.py:2619: FutureWarning: `distplot` is a deprecated function and will be removed in a future version. Please adapt your code to use either `displot` (a figure-level function with similar flexibility) or `histplot` (an axes-level function for histograms).\n",
            "  warnings.warn(msg, FutureWarning)\n"
          ]
        },
        {
          "data": {
            "text/plain": [
              "Text(0.5, 1.0, 'Distribution of the pickup ditribution after the treatment of outliers')"
            ]
          },
          "execution_count": 32,
          "metadata": {},
          "output_type": "execute_result"
        },
        {
          "data": {
            "image/png": "[encoded data removed]",
            "text/plain": [
              "<Figure size 432x288 with 1 Axes>"
            ]
          },
          "metadata": {
            "needs_background": "light"
          },
          "output_type": "display_data"
        }
      ],
      "source": [
        "#The distribution of the trip duration in seconds after removing the outlier\n",
        "sns.distplot(df['trip_duration'])\n",
        "plt.title('Distribution of the pickup ditribution after the treatment of outliers')"
      ]
    },
    {
      "cell_type": "markdown",
      "id": "405e6071",
      "metadata": {
        "id": "405e6071"
      },
      "source": [
        "### Still there is an extreme right skewness. Thus we will divide the trip_duration column into some interval.\n",
        "<b>The intervals are decided as follows:\n",
        "- less than 5 hours\n",
        "- 5–10 hours\n",
        "- 10–15 hours\n",
        "- 15–20 hours\n",
        "- more than 20 hours"
      ]
    },
    {
      "cell_type": "code",
      "execution_count": null,
      "id": "30aaef1d",
      "metadata": {
        "id": "30aaef1d"
      },
      "outputs": [],
      "source": [
        "bins=np.array([0,1800,3600,5400,7200,90000])\n",
        "df['duration_time']=pd.cut(df.trip_duration,bins,labels=[\"< 5\", \"5-10\", \"10-15\",\"15-20\",\">20\"])"
      ]
    },
    {
      "cell_type": "markdown",
      "id": "e20bbeab",
      "metadata": {
        "id": "e20bbeab"
      },
      "source": [
        "# Distribution of pickup longitude"
      ]
    },
    {
      "cell_type": "code",
      "execution_count": null,
      "id": "5dca7689",
      "metadata": {
        "id": "5dca7689",
        "outputId": "930e52c3-91f1-4cb7-deba-57735ad5cf7d"
      },
      "outputs": [
        {
          "name": "stderr",
          "output_type": "stream",
          "text": [
            "C:\\Users\\yaman\\anaconda3\\lib\\site-packages\\seaborn\\distributions.py:2619: FutureWarning: `distplot` is a deprecated function and will be removed in a future version. Please adapt your code to use either `displot` (a figure-level function with similar flexibility) or `histplot` (an axes-level function for histograms).\n",
            "  warnings.warn(msg, FutureWarning)\n"
          ]
        },
        {
          "data": {
            "text/plain": [
              "Text(0.5, 1.0, 'The distribution of Pick up Longitude')"
            ]
          },
          "execution_count": 34,
          "metadata": {},
          "output_type": "execute_result"
        },
        {
          "data": {
            "image/png": "[encoded data removed]",
            "text/plain": [
              "<Figure size 432x288 with 1 Axes>"
            ]
          },
          "metadata": {
            "needs_background": "light"
          },
          "output_type": "display_data"
        }
      ],
      "source": [
        "#The distribution of pick up longitude\n",
        "sns.distplot(df['pickup_longitude'])\n",
        "plt.title('The distribution of Pick up Longitude')"
      ]
    },
    {
      "cell_type": "markdown",
      "id": "5c582bb3",
      "metadata": {
        "id": "5c582bb3"
      },
      "source": [
        "# Distribution of drop off longitude"
      ]
    },
    {
      "cell_type": "code",
      "execution_count": null,
      "id": "a3ea5503",
      "metadata": {
        "id": "a3ea5503",
        "outputId": "1372f6ee-7311-4bab-da25-07bec8628693"
      },
      "outputs": [
        {
          "name": "stderr",
          "output_type": "stream",
          "text": [
            "C:\\Users\\yaman\\anaconda3\\lib\\site-packages\\seaborn\\distributions.py:2619: FutureWarning: `distplot` is a deprecated function and will be removed in a future version. Please adapt your code to use either `displot` (a figure-level function with similar flexibility) or `histplot` (an axes-level function for histograms).\n",
            "  warnings.warn(msg, FutureWarning)\n"
          ]
        },
        {
          "data": {
            "text/plain": [
              "Text(0.5, 1.0, 'The distribution of Drop off Longitude')"
            ]
          },
          "execution_count": 37,
          "metadata": {},
          "output_type": "execute_result"
        },
        {
          "data": {
            "image/png": "[encoded data removed]",
            "text/plain": [
              "<Figure size 432x288 with 1 Axes>"
            ]
          },
          "metadata": {
            "needs_background": "light"
          },
          "output_type": "display_data"
        }
      ],
      "source": [
        "# The distribution of drop off longitude\n",
        "sns.distplot(df['dropoff_longitude'])\n",
        "plt.title('The distribution of Drop off Longitude')"
      ]
    },
    {
      "cell_type": "markdown",
      "id": "79a84247",
      "metadata": {
        "id": "79a84247"
      },
      "source": [
        "# Distribution of dropoff latitude"
      ]
    },
    {
      "cell_type": "code",
      "execution_count": null,
      "id": "24a4a2a0",
      "metadata": {
        "id": "24a4a2a0",
        "outputId": "92cb5ebf-0b55-45d1-c43b-40dd2a506756"
      },
      "outputs": [
        {
          "name": "stderr",
          "output_type": "stream",
          "text": [
            "C:\\Users\\yaman\\anaconda3\\lib\\site-packages\\seaborn\\distributions.py:2619: FutureWarning: `distplot` is a deprecated function and will be removed in a future version. Please adapt your code to use either `displot` (a figure-level function with similar flexibility) or `histplot` (an axes-level function for histograms).\n",
            "  warnings.warn(msg, FutureWarning)\n"
          ]
        },
        {
          "data": {
            "text/plain": [
              "Text(0.5, 1.0, 'The distribution of drop off Latitude')"
            ]
          },
          "execution_count": 38,
          "metadata": {},
          "output_type": "execute_result"
        },
        {
          "data": {
            "image/png": "[encoded data removed]",
            "text/plain": [
              "<Figure size 432x288 with 1 Axes>"
            ]
          },
          "metadata": {
            "needs_background": "light"
          },
          "output_type": "display_data"
        }
      ],
      "source": [
        "# The distribution of drop off latitude\n",
        "sns.distplot(df['dropoff_latitude'])\n",
        "plt.title('The distribution of drop off Latitude')"
      ]
    },
    {
      "cell_type": "markdown",
      "id": "f93d0cee",
      "metadata": {
        "id": "f93d0cee"
      },
      "source": [
        "# Distribution of pickup latitude"
      ]
    },
    {
      "cell_type": "code",
      "execution_count": null,
      "id": "8adc5161",
      "metadata": {
        "id": "8adc5161",
        "outputId": "ba670e7b-a65a-4eec-ba75-bdc168b91678"
      },
      "outputs": [
        {
          "name": "stderr",
          "output_type": "stream",
          "text": [
            "C:\\Users\\yaman\\anaconda3\\lib\\site-packages\\seaborn\\distributions.py:2619: FutureWarning: `distplot` is a deprecated function and will be removed in a future version. Please adapt your code to use either `displot` (a figure-level function with similar flexibility) or `histplot` (an axes-level function for histograms).\n",
            "  warnings.warn(msg, FutureWarning)\n"
          ]
        },
        {
          "data": {
            "text/plain": [
              "Text(0.5, 1.0, 'The distribution of pick up Latitude')"
            ]
          },
          "execution_count": 40,
          "metadata": {},
          "output_type": "execute_result"
        },
        {
          "data": {
            "image/png": "[encoded data removed]",
            "text/plain": [
              "<Figure size 432x288 with 1 Axes>"
            ]
          },
          "metadata": {
            "needs_background": "light"
          },
          "output_type": "display_data"
        }
      ],
      "source": [
        "# The distribution of pickup latitude\n",
        "sns.distplot(df['pickup_latitude'])\n",
        "plt.title('The distribution of pick up Latitude')"
      ]
    },
    {
      "cell_type": "markdown",
      "id": "7367f4ed",
      "metadata": {
        "id": "7367f4ed"
      },
      "source": [
        "We see that the pickup longitude and the dropoff longitude has almost the same kind of distribution while the pickup latitude and the dropoff latitude has slightly different distribution."
      ]
    },
    {
      "cell_type": "markdown",
      "id": "43ea87bc",
      "metadata": {
        "id": "43ea87bc"
      },
      "source": [
        "# Distribution of vendor_id"
      ]
    },
    {
      "cell_type": "code",
      "execution_count": null,
      "id": "7ce431df",
      "metadata": {
        "id": "7ce431df",
        "outputId": "84577c68-cc3a-404b-913f-e52315cd5c18"
      },
      "outputs": [
        {
          "data": {
            "text/plain": [
              "<AxesSubplot:>"
            ]
          },
          "execution_count": 41,
          "metadata": {},
          "output_type": "execute_result"
        },
        {
          "data": {
            "image/png": "[encoded data removed]",
            "text/plain": [
              "<Figure size 432x288 with 1 Axes>"
            ]
          },
          "metadata": {
            "needs_background": "light"
          },
          "output_type": "display_data"
        }
      ],
      "source": [
        "df['vendor_id'].hist(bins=2)"
      ]
    },
    {
      "cell_type": "markdown",
      "id": "648bcb78",
      "metadata": {
        "id": "648bcb78"
      },
      "source": [
        "The distribution of vendor id is not much different as expected."
      ]
    },
    {
      "cell_type": "code",
      "execution_count": null,
      "id": "876a637d",
      "metadata": {
        "id": "876a637d"
      },
      "outputs": [],
      "source": []
    }
  ],
  "metadata": {
    "kernelspec": {
      "display_name": "Python 3 (ipykernel)",
      "language": "python",
      "name": "python3"
    },
    "language_info": {
      "codemirror_mode": {
        "name": "ipython",
        "version": 3
      },
      "file_extension": ".py",
      "mimetype": "text/x-python",
      "name": "python",
      "nbconvert_exporter": "python",
      "pygments_lexer": "ipython3",
      "version": "3.9.7"
    },
    "colab": {
      "provenance": [],
      "collapsed_sections": [
        "4e94347d",
        "a984938b",
        "405e6071"
      ],
      "toc_visible": true,
      "include_colab_link": true
    }
  },
  "nbformat": 4,
  "nbformat_minor": 5
}