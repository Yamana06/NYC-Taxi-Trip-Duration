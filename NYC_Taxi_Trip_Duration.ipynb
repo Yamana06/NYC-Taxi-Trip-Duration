{
  "cells": [
    {
      "cell_type": "markdown",
      "metadata": {
        "id": "view-in-github",
        "colab_type": "text"
      },
      "source": [
        "<a href=\"https://colab.research.google.com/github/Yamana06/NYC-Taxi-Trip-Duration/blob/main/NYC_Taxi_Trip_Duration.ipynb\" target=\"_parent\"><img src=\"https://colab.research.google.com/assets/colab-badge.svg\" alt=\"Open In Colab\"/></a>"
      ]
    },
    {
      "cell_type": "code",
      "source": [
        "from google.colab import drive\n",
        "drive.mount('/content/drive')"
      ],
      "metadata": {
        "colab": {
          "base_uri": "https://localhost:8080/"
        },
        "id": "hcHE08V_4ih4",
        "outputId": "a7040857-502b-4ebe-fb9c-bf177e9ad850"
      },
      "id": "hcHE08V_4ih4",
      "execution_count": 3,
      "outputs": [
        {
          "output_type": "stream",
          "name": "stdout",
          "text": [
            "Mounted at /content/drive\n"
          ]
        }
      ]
    },
    {
      "cell_type": "markdown",
      "id": "8e380d1c",
      "metadata": {
        "id": "8e380d1c"
      },
      "source": [
        "# Import Required Libraries\n",
        "First we will import all the necessary libraries needed for analysis and visualization."
      ]
    },
    {
      "cell_type": "code",
      "execution_count": 2,
      "id": "5a3cb470",
      "metadata": {
        "id": "5a3cb470"
      },
      "outputs": [],
      "source": [
        "import pandas as pd\n",
        "import numpy as np\n",
        "import matplotlib.pyplot as plt\n",
        "import seaborn as sns\n",
        "import datetime\n",
        "import warnings; warnings.simplefilter('ignore')\n",
        "from geopy.distance import great_circle\n"
      ]
    },
    {
      "cell_type": "markdown",
      "id": "0759fb51",
      "metadata": {
        "id": "0759fb51"
      },
      "source": [
        "<b>Now that we have all the necessary libraries lets load the data set. We will load it into the pandas DataFrame df."
      ]
    },
    {
      "cell_type": "code",
      "execution_count": 4,
      "id": "6d9ee280",
      "metadata": {
        "id": "6d9ee280"
      },
      "outputs": [],
      "source": [
        "df=pd.read_csv(\"/content/drive/MyDrive/Project-1/NYC Taxi Data.csv\")"
      ]
    },
    {
      "cell_type": "markdown",
      "id": "7fad69b9",
      "metadata": {
        "id": "7fad69b9"
      },
      "source": [
        "<b>We read the dataset into the DataFrame df and will have a look at the shape , columns , column data types and the first 5 rows of the data. This will give a brief overview of the data at hand."
      ]
    },
    {
      "cell_type": "code",
      "execution_count": 5,
      "id": "61ee1d68",
      "metadata": {
        "colab": {
          "base_uri": "https://localhost:8080/"
        },
        "id": "61ee1d68",
        "outputId": "9c391495-6632-4cc5-b413-6adc892c0bae"
      },
      "outputs": [
        {
          "output_type": "execute_result",
          "data": {
            "text/plain": [
              "(1458644, 11)"
            ]
          },
          "metadata": {},
          "execution_count": 5
        }
      ],
      "source": [
        "df.shape # This returns the number of rows and columns\n"
      ]
    },
    {
      "cell_type": "code",
      "execution_count": 6,
      "id": "b1d0edcf",
      "metadata": {
        "colab": {
          "base_uri": "https://localhost:8080/"
        },
        "id": "b1d0edcf",
        "outputId": "55bb7853-4517-40a3-ab36-237fcac46668"
      },
      "outputs": [
        {
          "output_type": "execute_result",
          "data": {
            "text/plain": [
              "Index(['id', 'vendor_id', 'pickup_datetime', 'dropoff_datetime',\n",
              "       'passenger_count', 'pickup_longitude', 'pickup_latitude',\n",
              "       'dropoff_longitude', 'dropoff_latitude', 'store_and_fwd_flag',\n",
              "       'trip_duration'],\n",
              "      dtype='object')"
            ]
          },
          "metadata": {},
          "execution_count": 6
        }
      ],
      "source": [
        "df.columns # This returns the column names"
      ]
    },
    {
      "cell_type": "markdown",
      "id": "e1d9f8b2",
      "metadata": {
        "id": "e1d9f8b2"
      },
      "source": [
        "#### Here’s what we know about the columns:<br>\n",
        "\n",
        "<b>Demographic information of Customer & Vendor:<br>\n",
        "- id : a unique identifier for each trip<br>\n",
        "- vendor_id : a code indicating the provider associated with the trip record<br>\n",
        "- passenger_count : the number of passengers in the vehicle (driver entered value)<br>\n",
        "\n",
        "<b>Information about the Trip:<br>\n",
        "- pickup_longitude : date and time when the meter was engaged<br>\n",
        "- pickup_latitude : date and time when the meter was disengaged<br>\n",
        "- dropoff_longitude : the longitude where the meter was disengaged<br>\n",
        "- dropoff_latitude : the latitude where the meter was disengaged<br>\n",
        "- store_and_fwd_flag : This flag indicates whether the trip record was held in vehicle memory before sending to the vendor because the vehicle did not have a connection to the server (Y=store and forward; N=not a store and forward trip)<br>\n",
        "- trip_duration : (target) duration of the trip in seconds<br>\n",
        "<br>\n",
        "- <b>Thus we have a data set with 1458644 rows and 11 columns. There are 10 features and 1 target variable which is trip_duration"
      ]
    },
    {
      "cell_type": "code",
      "execution_count": 7,
      "id": "6a21a2cc",
      "metadata": {
        "scrolled": true,
        "colab": {
          "base_uri": "https://localhost:8080/"
        },
        "id": "6a21a2cc",
        "outputId": "792d97fc-9687-4497-b851-13adbf2ac6c9"
      },
      "outputs": [
        {
          "output_type": "execute_result",
          "data": {
            "text/plain": [
              "id                     object\n",
              "vendor_id               int64\n",
              "pickup_datetime        object\n",
              "dropoff_datetime       object\n",
              "passenger_count         int64\n",
              "pickup_longitude      float64\n",
              "pickup_latitude       float64\n",
              "dropoff_longitude     float64\n",
              "dropoff_latitude      float64\n",
              "store_and_fwd_flag     object\n",
              "trip_duration           int64\n",
              "dtype: object"
            ]
          },
          "metadata": {},
          "execution_count": 7
        }
      ],
      "source": [
        "df.dtypes #This returns the data type of the columns"
      ]
    },
    {
      "cell_type": "markdown",
      "id": "023b053f",
      "metadata": {
        "id": "023b053f"
      },
      "source": [
        "<b>Some observations about the data:<br>\n",
        "- The columns id and vendor_id are nominal.<br>\n",
        "- The columns pickup_datetime and dropoff_datetime are stored as object which must be converted to datetime for better analysis.<br>\n",
        "- The column store_and_fwd_flag is categorical<br>"
      ]
    },
    {
      "cell_type": "code",
      "execution_count": 8,
      "id": "70c441b5",
      "metadata": {
        "colab": {
          "base_uri": "https://localhost:8080/",
          "height": 357
        },
        "id": "70c441b5",
        "outputId": "44a0182a-84e0-4b0f-bc4f-67336c4ace3e"
      },
      "outputs": [
        {
          "output_type": "execute_result",
          "data": {
            "text/plain": [
              "          id  vendor_id      pickup_datetime     dropoff_datetime  \\\n",
              "0  id2875421          2  2016-03-14 17:24:55  2016-03-14 17:32:30   \n",
              "1  id2377394          1  2016-06-12 00:43:35  2016-06-12 00:54:38   \n",
              "2  id3858529          2  2016-01-19 11:35:24  2016-01-19 12:10:48   \n",
              "3  id3504673          2  2016-04-06 19:32:31  2016-04-06 19:39:40   \n",
              "4  id2181028          2  2016-03-26 13:30:55  2016-03-26 13:38:10   \n",
              "\n",
              "   passenger_count  pickup_longitude  pickup_latitude  dropoff_longitude  \\\n",
              "0                1        -73.982155        40.767937         -73.964630   \n",
              "1                1        -73.980415        40.738564         -73.999481   \n",
              "2                1        -73.979027        40.763939         -74.005333   \n",
              "3                1        -74.010040        40.719971         -74.012268   \n",
              "4                1        -73.973053        40.793209         -73.972923   \n",
              "\n",
              "   dropoff_latitude store_and_fwd_flag  trip_duration  \n",
              "0         40.765602                  N            455  \n",
              "1         40.731152                  N            663  \n",
              "2         40.710087                  N           2124  \n",
              "3         40.706718                  N            429  \n",
              "4         40.782520                  N            435  "
            ],
            "text/html": [
              "\n",
              "  <div id=\"df-40d08ed9-c415-4558-b752-87d898f7501d\">\n",
              "    <div class=\"colab-df-container\">\n",
              "      <div>\n",
              "<style scoped>\n",
              "    .dataframe tbody tr th:only-of-type {\n",
              "        vertical-align: middle;\n",
              "    }\n",
              "\n",
              "    .dataframe tbody tr th {\n",
              "        vertical-align: top;\n",
              "    }\n",
              "\n",
              "    .dataframe thead th {\n",
              "        text-align: right;\n",
              "    }\n",
              "</style>\n",
              "<table border=\"1\" class=\"dataframe\">\n",
              "  <thead>\n",
              "    <tr style=\"text-align: right;\">\n",
              "      <th></th>\n",
              "      <th>id</th>\n",
              "      <th>vendor_id</th>\n",
              "      <th>pickup_datetime</th>\n",
              "      <th>dropoff_datetime</th>\n",
              "      <th>passenger_count</th>\n",
              "      <th>pickup_longitude</th>\n",
              "      <th>pickup_latitude</th>\n",
              "      <th>dropoff_longitude</th>\n",
              "      <th>dropoff_latitude</th>\n",
              "      <th>store_and_fwd_flag</th>\n",
              "      <th>trip_duration</th>\n",
              "    </tr>\n",
              "  </thead>\n",
              "  <tbody>\n",
              "    <tr>\n",
              "      <th>0</th>\n",
              "      <td>id2875421</td>\n",
              "      <td>2</td>\n",
              "      <td>2016-03-14 17:24:55</td>\n",
              "      <td>2016-03-14 17:32:30</td>\n",
              "      <td>1</td>\n",
              "      <td>-73.982155</td>\n",
              "      <td>40.767937</td>\n",
              "      <td>-73.964630</td>\n",
              "      <td>40.765602</td>\n",
              "      <td>N</td>\n",
              "      <td>455</td>\n",
              "    </tr>\n",
              "    <tr>\n",
              "      <th>1</th>\n",
              "      <td>id2377394</td>\n",
              "      <td>1</td>\n",
              "      <td>2016-06-12 00:43:35</td>\n",
              "      <td>2016-06-12 00:54:38</td>\n",
              "      <td>1</td>\n",
              "      <td>-73.980415</td>\n",
              "      <td>40.738564</td>\n",
              "      <td>-73.999481</td>\n",
              "      <td>40.731152</td>\n",
              "      <td>N</td>\n",
              "      <td>663</td>\n",
              "    </tr>\n",
              "    <tr>\n",
              "      <th>2</th>\n",
              "      <td>id3858529</td>\n",
              "      <td>2</td>\n",
              "      <td>2016-01-19 11:35:24</td>\n",
              "      <td>2016-01-19 12:10:48</td>\n",
              "      <td>1</td>\n",
              "      <td>-73.979027</td>\n",
              "      <td>40.763939</td>\n",
              "      <td>-74.005333</td>\n",
              "      <td>40.710087</td>\n",
              "      <td>N</td>\n",
              "      <td>2124</td>\n",
              "    </tr>\n",
              "    <tr>\n",
              "      <th>3</th>\n",
              "      <td>id3504673</td>\n",
              "      <td>2</td>\n",
              "      <td>2016-04-06 19:32:31</td>\n",
              "      <td>2016-04-06 19:39:40</td>\n",
              "      <td>1</td>\n",
              "      <td>-74.010040</td>\n",
              "      <td>40.719971</td>\n",
              "      <td>-74.012268</td>\n",
              "      <td>40.706718</td>\n",
              "      <td>N</td>\n",
              "      <td>429</td>\n",
              "    </tr>\n",
              "    <tr>\n",
              "      <th>4</th>\n",
              "      <td>id2181028</td>\n",
              "      <td>2</td>\n",
              "      <td>2016-03-26 13:30:55</td>\n",
              "      <td>2016-03-26 13:38:10</td>\n",
              "      <td>1</td>\n",
              "      <td>-73.973053</td>\n",
              "      <td>40.793209</td>\n",
              "      <td>-73.972923</td>\n",
              "      <td>40.782520</td>\n",
              "      <td>N</td>\n",
              "      <td>435</td>\n",
              "    </tr>\n",
              "  </tbody>\n",
              "</table>\n",
              "</div>\n",
              "      <button class=\"colab-df-convert\" onclick=\"convertToInteractive('df-40d08ed9-c415-4558-b752-87d898f7501d')\"\n",
              "              title=\"Convert this dataframe to an interactive table.\"\n",
              "              style=\"display:none;\">\n",
              "        \n",
              "  <svg xmlns=\"http://www.w3.org/2000/svg\" height=\"24px\"viewBox=\"0 0 24 24\"\n",
              "       width=\"24px\">\n",
              "    <path d=\"M0 0h24v24H0V0z\" fill=\"none\"/>\n",
              "    <path d=\"M18.56 5.44l.94 2.06.94-2.06 2.06-.94-2.06-.94-.94-2.06-.94 2.06-2.06.94zm-11 1L8.5 8.5l.94-2.06 2.06-.94-2.06-.94L8.5 2.5l-.94 2.06-2.06.94zm10 10l.94 2.06.94-2.06 2.06-.94-2.06-.94-.94-2.06-.94 2.06-2.06.94z\"/><path d=\"M17.41 7.96l-1.37-1.37c-.4-.4-.92-.59-1.43-.59-.52 0-1.04.2-1.43.59L10.3 9.45l-7.72 7.72c-.78.78-.78 2.05 0 2.83L4 21.41c.39.39.9.59 1.41.59.51 0 1.02-.2 1.41-.59l7.78-7.78 2.81-2.81c.8-.78.8-2.07 0-2.86zM5.41 20L4 18.59l7.72-7.72 1.47 1.35L5.41 20z\"/>\n",
              "  </svg>\n",
              "      </button>\n",
              "      \n",
              "  <style>\n",
              "    .colab-df-container {\n",
              "      display:flex;\n",
              "      flex-wrap:wrap;\n",
              "      gap: 12px;\n",
              "    }\n",
              "\n",
              "    .colab-df-convert {\n",
              "      background-color: #E8F0FE;\n",
              "      border: none;\n",
              "      border-radius: 50%;\n",
              "      cursor: pointer;\n",
              "      display: none;\n",
              "      fill: #1967D2;\n",
              "      height: 32px;\n",
              "      padding: 0 0 0 0;\n",
              "      width: 32px;\n",
              "    }\n",
              "\n",
              "    .colab-df-convert:hover {\n",
              "      background-color: #E2EBFA;\n",
              "      box-shadow: 0px 1px 2px rgba(60, 64, 67, 0.3), 0px 1px 3px 1px rgba(60, 64, 67, 0.15);\n",
              "      fill: #174EA6;\n",
              "    }\n",
              "\n",
              "    [theme=dark] .colab-df-convert {\n",
              "      background-color: #3B4455;\n",
              "      fill: #D2E3FC;\n",
              "    }\n",
              "\n",
              "    [theme=dark] .colab-df-convert:hover {\n",
              "      background-color: #434B5C;\n",
              "      box-shadow: 0px 1px 3px 1px rgba(0, 0, 0, 0.15);\n",
              "      filter: drop-shadow(0px 1px 2px rgba(0, 0, 0, 0.3));\n",
              "      fill: #FFFFFF;\n",
              "    }\n",
              "  </style>\n",
              "\n",
              "      <script>\n",
              "        const buttonEl =\n",
              "          document.querySelector('#df-40d08ed9-c415-4558-b752-87d898f7501d button.colab-df-convert');\n",
              "        buttonEl.style.display =\n",
              "          google.colab.kernel.accessAllowed ? 'block' : 'none';\n",
              "\n",
              "        async function convertToInteractive(key) {\n",
              "          const element = document.querySelector('#df-40d08ed9-c415-4558-b752-87d898f7501d');\n",
              "          const dataTable =\n",
              "            await google.colab.kernel.invokeFunction('convertToInteractive',\n",
              "                                                     [key], {});\n",
              "          if (!dataTable) return;\n",
              "\n",
              "          const docLinkHtml = 'Like what you see? Visit the ' +\n",
              "            '<a target=\"_blank\" href=https://colab.research.google.com/notebooks/data_table.ipynb>data table notebook</a>'\n",
              "            + ' to learn more about interactive tables.';\n",
              "          element.innerHTML = '';\n",
              "          dataTable['output_type'] = 'display_data';\n",
              "          await google.colab.output.renderOutput(dataTable, element);\n",
              "          const docLink = document.createElement('div');\n",
              "          docLink.innerHTML = docLinkHtml;\n",
              "          element.appendChild(docLink);\n",
              "        }\n",
              "      </script>\n",
              "    </div>\n",
              "  </div>\n",
              "  "
            ]
          },
          "metadata": {},
          "execution_count": 8
        }
      ],
      "source": [
        "df.head() #This returns the first 5 rows of the Data set"
      ]
    },
    {
      "cell_type": "markdown",
      "id": "c613339b",
      "metadata": {
        "id": "c613339b"
      },
      "source": [
        "- Thus we get a glimpse of the data set by looking at the first 5 rows returned by df.head(). Optionally we can specify the number of rows to be returned, by sending it as a parameter to the head() function."
      ]
    },
    {
      "cell_type": "markdown",
      "id": "1c0cce9d",
      "metadata": {
        "id": "1c0cce9d"
      },
      "source": [
        "<b>Lets look at the numerical columns :"
      ]
    },
    {
      "cell_type": "code",
      "execution_count": 9,
      "id": "ca55ead6",
      "metadata": {
        "colab": {
          "base_uri": "https://localhost:8080/"
        },
        "id": "ca55ead6",
        "outputId": "7ffc8aac-3b6d-452f-ae51-a549f07cda42"
      },
      "outputs": [
        {
          "output_type": "stream",
          "name": "stdout",
          "text": [
            "id                    1458644\n",
            "vendor_id             1458644\n",
            "pickup_datetime       1458644\n",
            "dropoff_datetime      1458644\n",
            "passenger_count       1458644\n",
            "pickup_longitude      1458644\n",
            "pickup_latitude       1458644\n",
            "dropoff_longitude     1458644\n",
            "dropoff_latitude      1458644\n",
            "store_and_fwd_flag    1458644\n",
            "trip_duration         1458644\n",
            "dtype: int64\n"
          ]
        }
      ],
      "source": [
        "print(df.count())"
      ]
    },
    {
      "cell_type": "markdown",
      "id": "a43fa58a",
      "metadata": {
        "id": "a43fa58a"
      },
      "source": [
        "<br>\n",
        "\n",
        "- Let us finally check for a statistical summary of our dataset.\n",
        "- Note that this function can provide statistics for numerical features only."
      ]
    },
    {
      "cell_type": "code",
      "execution_count": 10,
      "id": "6ba13d93",
      "metadata": {
        "colab": {
          "base_uri": "https://localhost:8080/",
          "height": 300
        },
        "id": "6ba13d93",
        "outputId": "a580093c-cccf-49dd-9eb3-10827352eab0"
      },
      "outputs": [
        {
          "output_type": "execute_result",
          "data": {
            "text/plain": [
              "        vendor_id passenger_count pickup_longitude pickup_latitude  \\\n",
              "count  1458644.00      1458644.00       1458644.00      1458644.00   \n",
              "mean         1.53            1.66           -73.97           40.75   \n",
              "std          0.50            1.31             0.07            0.03   \n",
              "min          1.00            0.00          -121.93           34.36   \n",
              "25%          1.00            1.00           -73.99           40.74   \n",
              "50%          2.00            1.00           -73.98           40.75   \n",
              "75%          2.00            2.00           -73.97           40.77   \n",
              "max          2.00            9.00           -61.34           51.88   \n",
              "\n",
              "      dropoff_longitude dropoff_latitude trip_duration  \n",
              "count        1458644.00       1458644.00    1458644.00  \n",
              "mean             -73.97            40.75        959.49  \n",
              "std                0.07             0.04       5237.43  \n",
              "min             -121.93            32.18          1.00  \n",
              "25%              -73.99            40.74        397.00  \n",
              "50%              -73.98            40.75        662.00  \n",
              "75%              -73.96            40.77       1075.00  \n",
              "max              -61.34            43.92    3526282.00  "
            ],
            "text/html": [
              "\n",
              "  <div id=\"df-89cd1984-103e-46d5-984e-1f597a0cd1af\">\n",
              "    <div class=\"colab-df-container\">\n",
              "      <div>\n",
              "<style scoped>\n",
              "    .dataframe tbody tr th:only-of-type {\n",
              "        vertical-align: middle;\n",
              "    }\n",
              "\n",
              "    .dataframe tbody tr th {\n",
              "        vertical-align: top;\n",
              "    }\n",
              "\n",
              "    .dataframe thead th {\n",
              "        text-align: right;\n",
              "    }\n",
              "</style>\n",
              "<table border=\"1\" class=\"dataframe\">\n",
              "  <thead>\n",
              "    <tr style=\"text-align: right;\">\n",
              "      <th></th>\n",
              "      <th>vendor_id</th>\n",
              "      <th>passenger_count</th>\n",
              "      <th>pickup_longitude</th>\n",
              "      <th>pickup_latitude</th>\n",
              "      <th>dropoff_longitude</th>\n",
              "      <th>dropoff_latitude</th>\n",
              "      <th>trip_duration</th>\n",
              "    </tr>\n",
              "  </thead>\n",
              "  <tbody>\n",
              "    <tr>\n",
              "      <th>count</th>\n",
              "      <td>1458644.00</td>\n",
              "      <td>1458644.00</td>\n",
              "      <td>1458644.00</td>\n",
              "      <td>1458644.00</td>\n",
              "      <td>1458644.00</td>\n",
              "      <td>1458644.00</td>\n",
              "      <td>1458644.00</td>\n",
              "    </tr>\n",
              "    <tr>\n",
              "      <th>mean</th>\n",
              "      <td>1.53</td>\n",
              "      <td>1.66</td>\n",
              "      <td>-73.97</td>\n",
              "      <td>40.75</td>\n",
              "      <td>-73.97</td>\n",
              "      <td>40.75</td>\n",
              "      <td>959.49</td>\n",
              "    </tr>\n",
              "    <tr>\n",
              "      <th>std</th>\n",
              "      <td>0.50</td>\n",
              "      <td>1.31</td>\n",
              "      <td>0.07</td>\n",
              "      <td>0.03</td>\n",
              "      <td>0.07</td>\n",
              "      <td>0.04</td>\n",
              "      <td>5237.43</td>\n",
              "    </tr>\n",
              "    <tr>\n",
              "      <th>min</th>\n",
              "      <td>1.00</td>\n",
              "      <td>0.00</td>\n",
              "      <td>-121.93</td>\n",
              "      <td>34.36</td>\n",
              "      <td>-121.93</td>\n",
              "      <td>32.18</td>\n",
              "      <td>1.00</td>\n",
              "    </tr>\n",
              "    <tr>\n",
              "      <th>25%</th>\n",
              "      <td>1.00</td>\n",
              "      <td>1.00</td>\n",
              "      <td>-73.99</td>\n",
              "      <td>40.74</td>\n",
              "      <td>-73.99</td>\n",
              "      <td>40.74</td>\n",
              "      <td>397.00</td>\n",
              "    </tr>\n",
              "    <tr>\n",
              "      <th>50%</th>\n",
              "      <td>2.00</td>\n",
              "      <td>1.00</td>\n",
              "      <td>-73.98</td>\n",
              "      <td>40.75</td>\n",
              "      <td>-73.98</td>\n",
              "      <td>40.75</td>\n",
              "      <td>662.00</td>\n",
              "    </tr>\n",
              "    <tr>\n",
              "      <th>75%</th>\n",
              "      <td>2.00</td>\n",
              "      <td>2.00</td>\n",
              "      <td>-73.97</td>\n",
              "      <td>40.77</td>\n",
              "      <td>-73.96</td>\n",
              "      <td>40.77</td>\n",
              "      <td>1075.00</td>\n",
              "    </tr>\n",
              "    <tr>\n",
              "      <th>max</th>\n",
              "      <td>2.00</td>\n",
              "      <td>9.00</td>\n",
              "      <td>-61.34</td>\n",
              "      <td>51.88</td>\n",
              "      <td>-61.34</td>\n",
              "      <td>43.92</td>\n",
              "      <td>3526282.00</td>\n",
              "    </tr>\n",
              "  </tbody>\n",
              "</table>\n",
              "</div>\n",
              "      <button class=\"colab-df-convert\" onclick=\"convertToInteractive('df-89cd1984-103e-46d5-984e-1f597a0cd1af')\"\n",
              "              title=\"Convert this dataframe to an interactive table.\"\n",
              "              style=\"display:none;\">\n",
              "        \n",
              "  <svg xmlns=\"http://www.w3.org/2000/svg\" height=\"24px\"viewBox=\"0 0 24 24\"\n",
              "       width=\"24px\">\n",
              "    <path d=\"M0 0h24v24H0V0z\" fill=\"none\"/>\n",
              "    <path d=\"M18.56 5.44l.94 2.06.94-2.06 2.06-.94-2.06-.94-.94-2.06-.94 2.06-2.06.94zm-11 1L8.5 8.5l.94-2.06 2.06-.94-2.06-.94L8.5 2.5l-.94 2.06-2.06.94zm10 10l.94 2.06.94-2.06 2.06-.94-2.06-.94-.94-2.06-.94 2.06-2.06.94z\"/><path d=\"M17.41 7.96l-1.37-1.37c-.4-.4-.92-.59-1.43-.59-.52 0-1.04.2-1.43.59L10.3 9.45l-7.72 7.72c-.78.78-.78 2.05 0 2.83L4 21.41c.39.39.9.59 1.41.59.51 0 1.02-.2 1.41-.59l7.78-7.78 2.81-2.81c.8-.78.8-2.07 0-2.86zM5.41 20L4 18.59l7.72-7.72 1.47 1.35L5.41 20z\"/>\n",
              "  </svg>\n",
              "      </button>\n",
              "      \n",
              "  <style>\n",
              "    .colab-df-container {\n",
              "      display:flex;\n",
              "      flex-wrap:wrap;\n",
              "      gap: 12px;\n",
              "    }\n",
              "\n",
              "    .colab-df-convert {\n",
              "      background-color: #E8F0FE;\n",
              "      border: none;\n",
              "      border-radius: 50%;\n",
              "      cursor: pointer;\n",
              "      display: none;\n",
              "      fill: #1967D2;\n",
              "      height: 32px;\n",
              "      padding: 0 0 0 0;\n",
              "      width: 32px;\n",
              "    }\n",
              "\n",
              "    .colab-df-convert:hover {\n",
              "      background-color: #E2EBFA;\n",
              "      box-shadow: 0px 1px 2px rgba(60, 64, 67, 0.3), 0px 1px 3px 1px rgba(60, 64, 67, 0.15);\n",
              "      fill: #174EA6;\n",
              "    }\n",
              "\n",
              "    [theme=dark] .colab-df-convert {\n",
              "      background-color: #3B4455;\n",
              "      fill: #D2E3FC;\n",
              "    }\n",
              "\n",
              "    [theme=dark] .colab-df-convert:hover {\n",
              "      background-color: #434B5C;\n",
              "      box-shadow: 0px 1px 3px 1px rgba(0, 0, 0, 0.15);\n",
              "      filter: drop-shadow(0px 1px 2px rgba(0, 0, 0, 0.3));\n",
              "      fill: #FFFFFF;\n",
              "    }\n",
              "  </style>\n",
              "\n",
              "      <script>\n",
              "        const buttonEl =\n",
              "          document.querySelector('#df-89cd1984-103e-46d5-984e-1f597a0cd1af button.colab-df-convert');\n",
              "        buttonEl.style.display =\n",
              "          google.colab.kernel.accessAllowed ? 'block' : 'none';\n",
              "\n",
              "        async function convertToInteractive(key) {\n",
              "          const element = document.querySelector('#df-89cd1984-103e-46d5-984e-1f597a0cd1af');\n",
              "          const dataTable =\n",
              "            await google.colab.kernel.invokeFunction('convertToInteractive',\n",
              "                                                     [key], {});\n",
              "          if (!dataTable) return;\n",
              "\n",
              "          const docLinkHtml = 'Like what you see? Visit the ' +\n",
              "            '<a target=\"_blank\" href=https://colab.research.google.com/notebooks/data_table.ipynb>data table notebook</a>'\n",
              "            + ' to learn more about interactive tables.';\n",
              "          element.innerHTML = '';\n",
              "          dataTable['output_type'] = 'display_data';\n",
              "          await google.colab.output.renderOutput(dataTable, element);\n",
              "          const docLink = document.createElement('div');\n",
              "          docLink.innerHTML = docLinkHtml;\n",
              "          element.appendChild(docLink);\n",
              "        }\n",
              "      </script>\n",
              "    </div>\n",
              "  </div>\n",
              "  "
            ]
          },
          "metadata": {},
          "execution_count": 10
        }
      ],
      "source": [
        "df.describe().apply(lambda s:s.apply('{0:.2f}'.format)) # This returns a statistical summary of the numerical columns"
      ]
    },
    {
      "cell_type": "markdown",
      "id": "5d26c32f",
      "metadata": {
        "id": "5d26c32f"
      },
      "source": [
        "<b>The returned table gives certain insights:<br>\n",
        "- Passenger count has a minimum of 0 which means either it is an error entered or the drivers deliberately entered 0 to complete a target number of rides.\n",
        "- The passenger count varies between 1 and 9 with most people number of people being 1 or 2\n",
        "- The trip duration varying from 1s to 3526282s~ 979 hrs. There are definitely some outliers present which must be treated."
      ]
    },
    {
      "cell_type": "markdown",
      "id": "070af483",
      "metadata": {
        "id": "070af483"
      },
      "source": [
        "# Let us see if there are any null values in our dataset."
      ]
    },
    {
      "cell_type": "code",
      "execution_count": 11,
      "id": "11da257d",
      "metadata": {
        "colab": {
          "base_uri": "https://localhost:8080/"
        },
        "id": "11da257d",
        "outputId": "4e7cb818-16f1-4bb5-ec60-3792966a1ec2"
      },
      "outputs": [
        {
          "output_type": "execute_result",
          "data": {
            "text/plain": [
              "id                    0\n",
              "vendor_id             0\n",
              "pickup_datetime       0\n",
              "dropoff_datetime      0\n",
              "passenger_count       0\n",
              "pickup_longitude      0\n",
              "pickup_latitude       0\n",
              "dropoff_longitude     0\n",
              "dropoff_latitude      0\n",
              "store_and_fwd_flag    0\n",
              "trip_duration         0\n",
              "dtype: int64"
            ]
          },
          "metadata": {},
          "execution_count": 11
        }
      ],
      "source": [
        "df.isnull().sum()"
      ]
    },
    {
      "cell_type": "markdown",
      "id": "eaa64912",
      "metadata": {
        "id": "eaa64912"
      },
      "source": [
        "### There are no null values in this dataset which saves us a step of imputing."
      ]
    },
    {
      "cell_type": "markdown",
      "id": "ed7fbecd",
      "metadata": {
        "id": "ed7fbecd"
      },
      "source": [
        "\n",
        "# Let us check for unique values of all columns."
      ]
    },
    {
      "cell_type": "code",
      "execution_count": 12,
      "id": "905e0d71",
      "metadata": {
        "colab": {
          "base_uri": "https://localhost:8080/"
        },
        "id": "905e0d71",
        "outputId": "8136a7e6-ec3b-4fb2-e7ab-32108024c3e2"
      },
      "outputs": [
        {
          "output_type": "execute_result",
          "data": {
            "text/plain": [
              "id                    1458644\n",
              "vendor_id                   2\n",
              "pickup_datetime       1380222\n",
              "dropoff_datetime      1380377\n",
              "passenger_count            10\n",
              "pickup_longitude        23047\n",
              "pickup_latitude         45245\n",
              "dropoff_longitude       33821\n",
              "dropoff_latitude        62519\n",
              "store_and_fwd_flag          2\n",
              "trip_duration            7417\n",
              "dtype: int64"
            ]
          },
          "metadata": {},
          "execution_count": 12
        }
      ],
      "source": [
        "df.nunique()"
      ]
    },
    {
      "cell_type": "markdown",
      "id": "65ae7755",
      "metadata": {
        "id": "65ae7755"
      },
      "source": [
        "- We see that id has 729322 unique values which are equal to the number of rows in our dataset.\n",
        "- There are 2 unique vendor ids.\n",
        "- There are 9 unique passenger counts.\n",
        "- There are 2 unique values for store_and_fwd_flag, that we also saw in the description of the variables, which are Y and N."
      ]
    },
    {
      "cell_type": "markdown",
      "id": "ead85297",
      "metadata": {
        "id": "ead85297"
      },
      "source": [
        "## Feature Creation\n",
        "Let us create some new features from the existing variables so that we can gain more insights from the data.\n",
        "\n",
        "Remember pickup_datetime and dropoff_datetime were both of type object.\n",
        "If we want to make use of this data, we can convert it to datetime object which contains numerous functions with which we can create new features that we will see soon."
      ]
    },
    {
      "cell_type": "code",
      "execution_count": 13,
      "id": "4364d10f",
      "metadata": {
        "id": "4364d10f"
      },
      "outputs": [],
      "source": [
        "df['pickup_datetime']=pd.to_datetime(df['pickup_datetime'])\n",
        "df['dropoff_datetime']=pd.to_datetime(df['dropoff_datetime'])"
      ]
    },
    {
      "cell_type": "markdown",
      "id": "1934f35d",
      "metadata": {
        "id": "1934f35d"
      },
      "source": [
        "# let us extract and create new features from this datetime features "
      ]
    },
    {
      "cell_type": "code",
      "execution_count": 14,
      "id": "33784bd5",
      "metadata": {
        "id": "33784bd5"
      },
      "outputs": [],
      "source": [
        "df['pickup_day']=df['pickup_datetime'].dt.day_name()\n",
        "df['dropoff_day']=df['dropoff_datetime'].dt.day_name()"
      ]
    },
    {
      "cell_type": "markdown",
      "id": "3f7bff07",
      "metadata": {
        "id": "3f7bff07"
      },
      "source": [
        "We have created the following feature:\n",
        "- pickup_day and dropoff_day which will contain the name of the day on which the ride was taken."
      ]
    },
    {
      "cell_type": "code",
      "execution_count": 15,
      "id": "7ee5b65e",
      "metadata": {
        "id": "7ee5b65e"
      },
      "outputs": [],
      "source": [
        "df['pickup_day_no']=df['pickup_datetime'].dt.weekday\n",
        "df['dropoff_day_no']=df['dropoff_datetime'].dt.weekday"
      ]
    },
    {
      "cell_type": "markdown",
      "id": "74bbcba8",
      "metadata": {
        "id": "74bbcba8"
      },
      "source": [
        "We have created the following feature:\n",
        "- pickup_day_no and dropoff_day_no which will contain the day number instead of characters with Monday=0 and Sunday=6."
      ]
    },
    {
      "cell_type": "code",
      "execution_count": 16,
      "id": "2377e478",
      "metadata": {
        "id": "2377e478"
      },
      "outputs": [],
      "source": [
        "df['pickup_hour']=df['pickup_datetime'].dt.hour\n",
        "df['dropoff_hour']=df['dropoff_datetime'].dt.hour"
      ]
    },
    {
      "cell_type": "markdown",
      "id": "9ae444e9",
      "metadata": {
        "id": "9ae444e9"
      },
      "source": [
        "We have created the following feature:\n",
        "- pickup_hour and dropoff_hour with an hour of the day in the 24-hour format."
      ]
    },
    {
      "cell_type": "code",
      "execution_count": 17,
      "id": "e9eafab6",
      "metadata": {
        "id": "e9eafab6"
      },
      "outputs": [],
      "source": [
        "df['pickup_month']=df['pickup_datetime'].dt.month\n",
        "df['dropoff_month']=df['dropoff_datetime'].dt.month"
      ]
    },
    {
      "cell_type": "markdown",
      "id": "7f13bd6e",
      "metadata": {
        "id": "7f13bd6e"
      },
      "source": [
        "We have created the following feature:\n",
        "- pickup_month and dropoff_month with month number with January=1 and December=12."
      ]
    },
    {
      "cell_type": "markdown",
      "id": "a6067396",
      "metadata": {
        "id": "a6067396"
      },
      "source": [
        "Lets us determine what time of the day the ride was taken. I have created 4 time zones ‘Morning’ (from 6:00 am to 11:59 pm), ‘Afternoon’ (from 12 noon to 3:59 pm), ‘Evening’ (from 4:00 pm to 9:59 pm), and ‘Late Night’ (from 10:00 pm to 5:59 am)"
      ]
    },
    {
      "cell_type": "code",
      "execution_count": 18,
      "id": "7a6fee77",
      "metadata": {
        "id": "7a6fee77"
      },
      "outputs": [],
      "source": [
        "def time_of_day(x):\n",
        "    if x in range(6,12):\n",
        "        return 'Morning'\n",
        "    elif x in range(12,16):\n",
        "        return 'Afternoon'\n",
        "    elif x in range(16,22):\n",
        "        return 'Evening'\n",
        "    else:\n",
        "        return 'Late night'\n",
        "\n",
        "df['pickup_timeofday']=df['pickup_hour'].apply(time_of_day)\n",
        "df['dropoff_timeofday']=df['dropoff_hour'].apply(time_of_day)"
      ]
    },
    {
      "cell_type": "markdown",
      "id": "8bbf2c35",
      "metadata": {
        "id": "8bbf2c35"
      },
      "source": [
        "- We also saw during dataset exploration that we have coordinates in the form of longitude and latitude for pickup and dropoff. But, we can’t really gather any insights or draw conclusions from that.\n",
        "So, the most obvious feature that we can extract from this is distance."
      ]
    },
    {
      "cell_type": "code",
      "execution_count": 19,
      "id": "5df0c65a",
      "metadata": {
        "id": "5df0c65a"
      },
      "outputs": [],
      "source": [
        "def cal_distance(pickup_lat,pickup_long,dropoff_lat,dropoff_long):\n",
        "    start_coordinates=(pickup_lat,pickup_long)\n",
        "    stop_coordinates=(dropoff_lat,dropoff_long)\n",
        "    return great_circle(start_coordinates,stop_coordinates).km\n"
      ]
    },
    {
      "cell_type": "code",
      "execution_count": 20,
      "id": "d83f0605",
      "metadata": {
        "id": "d83f0605"
      },
      "outputs": [],
      "source": [
        "df['distance'] = df.apply(lambda x: cal_distance(x['pickup_latitude'],x['pickup_longitude'],x['dropoff_latitude'],x['dropoff_longitude'] ),axis=1)"
      ]
    },
    {
      "cell_type": "code",
      "execution_count": 20,
      "id": "b538649c",
      "metadata": {
        "id": "b538649c"
      },
      "outputs": [],
      "source": []
    },
    {
      "cell_type": "code",
      "execution_count": 21,
      "id": "8d5a2703",
      "metadata": {
        "colab": {
          "base_uri": "https://localhost:8080/",
          "height": 386
        },
        "id": "8d5a2703",
        "outputId": "d87193f4-cd55-4afa-ed05-d09618cdda87"
      },
      "outputs": [
        {
          "output_type": "execute_result",
          "data": {
            "text/plain": [
              "          id  vendor_id     pickup_datetime    dropoff_datetime  \\\n",
              "0  id2875421          2 2016-03-14 17:24:55 2016-03-14 17:32:30   \n",
              "1  id2377394          1 2016-06-12 00:43:35 2016-06-12 00:54:38   \n",
              "2  id3858529          2 2016-01-19 11:35:24 2016-01-19 12:10:48   \n",
              "3  id3504673          2 2016-04-06 19:32:31 2016-04-06 19:39:40   \n",
              "4  id2181028          2 2016-03-26 13:30:55 2016-03-26 13:38:10   \n",
              "\n",
              "   passenger_count  pickup_longitude  pickup_latitude  dropoff_longitude  \\\n",
              "0                1        -73.982155        40.767937         -73.964630   \n",
              "1                1        -73.980415        40.738564         -73.999481   \n",
              "2                1        -73.979027        40.763939         -74.005333   \n",
              "3                1        -74.010040        40.719971         -74.012268   \n",
              "4                1        -73.973053        40.793209         -73.972923   \n",
              "\n",
              "   dropoff_latitude store_and_fwd_flag  ...  dropoff_day pickup_day_no  \\\n",
              "0         40.765602                  N  ...       Monday             0   \n",
              "1         40.731152                  N  ...       Sunday             6   \n",
              "2         40.710087                  N  ...      Tuesday             1   \n",
              "3         40.706718                  N  ...    Wednesday             2   \n",
              "4         40.782520                  N  ...     Saturday             5   \n",
              "\n",
              "  dropoff_day_no  pickup_hour  dropoff_hour  pickup_month  dropoff_month  \\\n",
              "0              0           17            17             3              3   \n",
              "1              6            0             0             6              6   \n",
              "2              1           11            12             1              1   \n",
              "3              2           19            19             4              4   \n",
              "4              5           13            13             3              3   \n",
              "\n",
              "   pickup_timeofday  dropoff_timeofday  distance  \n",
              "0           Evening            Evening  1.498523  \n",
              "1        Late night         Late night  1.805510  \n",
              "2           Morning          Afternoon  6.385108  \n",
              "3           Evening            Evening  1.485501  \n",
              "4         Afternoon          Afternoon  1.188590  \n",
              "\n",
              "[5 rows x 22 columns]"
            ],
            "text/html": [
              "\n",
              "  <div id=\"df-083baf22-9d6e-4b21-bf70-8238737581e1\">\n",
              "    <div class=\"colab-df-container\">\n",
              "      <div>\n",
              "<style scoped>\n",
              "    .dataframe tbody tr th:only-of-type {\n",
              "        vertical-align: middle;\n",
              "    }\n",
              "\n",
              "    .dataframe tbody tr th {\n",
              "        vertical-align: top;\n",
              "    }\n",
              "\n",
              "    .dataframe thead th {\n",
              "        text-align: right;\n",
              "    }\n",
              "</style>\n",
              "<table border=\"1\" class=\"dataframe\">\n",
              "  <thead>\n",
              "    <tr style=\"text-align: right;\">\n",
              "      <th></th>\n",
              "      <th>id</th>\n",
              "      <th>vendor_id</th>\n",
              "      <th>pickup_datetime</th>\n",
              "      <th>dropoff_datetime</th>\n",
              "      <th>passenger_count</th>\n",
              "      <th>pickup_longitude</th>\n",
              "      <th>pickup_latitude</th>\n",
              "      <th>dropoff_longitude</th>\n",
              "      <th>dropoff_latitude</th>\n",
              "      <th>store_and_fwd_flag</th>\n",
              "      <th>...</th>\n",
              "      <th>dropoff_day</th>\n",
              "      <th>pickup_day_no</th>\n",
              "      <th>dropoff_day_no</th>\n",
              "      <th>pickup_hour</th>\n",
              "      <th>dropoff_hour</th>\n",
              "      <th>pickup_month</th>\n",
              "      <th>dropoff_month</th>\n",
              "      <th>pickup_timeofday</th>\n",
              "      <th>dropoff_timeofday</th>\n",
              "      <th>distance</th>\n",
              "    </tr>\n",
              "  </thead>\n",
              "  <tbody>\n",
              "    <tr>\n",
              "      <th>0</th>\n",
              "      <td>id2875421</td>\n",
              "      <td>2</td>\n",
              "      <td>2016-03-14 17:24:55</td>\n",
              "      <td>2016-03-14 17:32:30</td>\n",
              "      <td>1</td>\n",
              "      <td>-73.982155</td>\n",
              "      <td>40.767937</td>\n",
              "      <td>-73.964630</td>\n",
              "      <td>40.765602</td>\n",
              "      <td>N</td>\n",
              "      <td>...</td>\n",
              "      <td>Monday</td>\n",
              "      <td>0</td>\n",
              "      <td>0</td>\n",
              "      <td>17</td>\n",
              "      <td>17</td>\n",
              "      <td>3</td>\n",
              "      <td>3</td>\n",
              "      <td>Evening</td>\n",
              "      <td>Evening</td>\n",
              "      <td>1.498523</td>\n",
              "    </tr>\n",
              "    <tr>\n",
              "      <th>1</th>\n",
              "      <td>id2377394</td>\n",
              "      <td>1</td>\n",
              "      <td>2016-06-12 00:43:35</td>\n",
              "      <td>2016-06-12 00:54:38</td>\n",
              "      <td>1</td>\n",
              "      <td>-73.980415</td>\n",
              "      <td>40.738564</td>\n",
              "      <td>-73.999481</td>\n",
              "      <td>40.731152</td>\n",
              "      <td>N</td>\n",
              "      <td>...</td>\n",
              "      <td>Sunday</td>\n",
              "      <td>6</td>\n",
              "      <td>6</td>\n",
              "      <td>0</td>\n",
              "      <td>0</td>\n",
              "      <td>6</td>\n",
              "      <td>6</td>\n",
              "      <td>Late night</td>\n",
              "      <td>Late night</td>\n",
              "      <td>1.805510</td>\n",
              "    </tr>\n",
              "    <tr>\n",
              "      <th>2</th>\n",
              "      <td>id3858529</td>\n",
              "      <td>2</td>\n",
              "      <td>2016-01-19 11:35:24</td>\n",
              "      <td>2016-01-19 12:10:48</td>\n",
              "      <td>1</td>\n",
              "      <td>-73.979027</td>\n",
              "      <td>40.763939</td>\n",
              "      <td>-74.005333</td>\n",
              "      <td>40.710087</td>\n",
              "      <td>N</td>\n",
              "      <td>...</td>\n",
              "      <td>Tuesday</td>\n",
              "      <td>1</td>\n",
              "      <td>1</td>\n",
              "      <td>11</td>\n",
              "      <td>12</td>\n",
              "      <td>1</td>\n",
              "      <td>1</td>\n",
              "      <td>Morning</td>\n",
              "      <td>Afternoon</td>\n",
              "      <td>6.385108</td>\n",
              "    </tr>\n",
              "    <tr>\n",
              "      <th>3</th>\n",
              "      <td>id3504673</td>\n",
              "      <td>2</td>\n",
              "      <td>2016-04-06 19:32:31</td>\n",
              "      <td>2016-04-06 19:39:40</td>\n",
              "      <td>1</td>\n",
              "      <td>-74.010040</td>\n",
              "      <td>40.719971</td>\n",
              "      <td>-74.012268</td>\n",
              "      <td>40.706718</td>\n",
              "      <td>N</td>\n",
              "      <td>...</td>\n",
              "      <td>Wednesday</td>\n",
              "      <td>2</td>\n",
              "      <td>2</td>\n",
              "      <td>19</td>\n",
              "      <td>19</td>\n",
              "      <td>4</td>\n",
              "      <td>4</td>\n",
              "      <td>Evening</td>\n",
              "      <td>Evening</td>\n",
              "      <td>1.485501</td>\n",
              "    </tr>\n",
              "    <tr>\n",
              "      <th>4</th>\n",
              "      <td>id2181028</td>\n",
              "      <td>2</td>\n",
              "      <td>2016-03-26 13:30:55</td>\n",
              "      <td>2016-03-26 13:38:10</td>\n",
              "      <td>1</td>\n",
              "      <td>-73.973053</td>\n",
              "      <td>40.793209</td>\n",
              "      <td>-73.972923</td>\n",
              "      <td>40.782520</td>\n",
              "      <td>N</td>\n",
              "      <td>...</td>\n",
              "      <td>Saturday</td>\n",
              "      <td>5</td>\n",
              "      <td>5</td>\n",
              "      <td>13</td>\n",
              "      <td>13</td>\n",
              "      <td>3</td>\n",
              "      <td>3</td>\n",
              "      <td>Afternoon</td>\n",
              "      <td>Afternoon</td>\n",
              "      <td>1.188590</td>\n",
              "    </tr>\n",
              "  </tbody>\n",
              "</table>\n",
              "<p>5 rows × 22 columns</p>\n",
              "</div>\n",
              "      <button class=\"colab-df-convert\" onclick=\"convertToInteractive('df-083baf22-9d6e-4b21-bf70-8238737581e1')\"\n",
              "              title=\"Convert this dataframe to an interactive table.\"\n",
              "              style=\"display:none;\">\n",
              "        \n",
              "  <svg xmlns=\"http://www.w3.org/2000/svg\" height=\"24px\"viewBox=\"0 0 24 24\"\n",
              "       width=\"24px\">\n",
              "    <path d=\"M0 0h24v24H0V0z\" fill=\"none\"/>\n",
              "    <path d=\"M18.56 5.44l.94 2.06.94-2.06 2.06-.94-2.06-.94-.94-2.06-.94 2.06-2.06.94zm-11 1L8.5 8.5l.94-2.06 2.06-.94-2.06-.94L8.5 2.5l-.94 2.06-2.06.94zm10 10l.94 2.06.94-2.06 2.06-.94-2.06-.94-.94-2.06-.94 2.06-2.06.94z\"/><path d=\"M17.41 7.96l-1.37-1.37c-.4-.4-.92-.59-1.43-.59-.52 0-1.04.2-1.43.59L10.3 9.45l-7.72 7.72c-.78.78-.78 2.05 0 2.83L4 21.41c.39.39.9.59 1.41.59.51 0 1.02-.2 1.41-.59l7.78-7.78 2.81-2.81c.8-.78.8-2.07 0-2.86zM5.41 20L4 18.59l7.72-7.72 1.47 1.35L5.41 20z\"/>\n",
              "  </svg>\n",
              "      </button>\n",
              "      \n",
              "  <style>\n",
              "    .colab-df-container {\n",
              "      display:flex;\n",
              "      flex-wrap:wrap;\n",
              "      gap: 12px;\n",
              "    }\n",
              "\n",
              "    .colab-df-convert {\n",
              "      background-color: #E8F0FE;\n",
              "      border: none;\n",
              "      border-radius: 50%;\n",
              "      cursor: pointer;\n",
              "      display: none;\n",
              "      fill: #1967D2;\n",
              "      height: 32px;\n",
              "      padding: 0 0 0 0;\n",
              "      width: 32px;\n",
              "    }\n",
              "\n",
              "    .colab-df-convert:hover {\n",
              "      background-color: #E2EBFA;\n",
              "      box-shadow: 0px 1px 2px rgba(60, 64, 67, 0.3), 0px 1px 3px 1px rgba(60, 64, 67, 0.15);\n",
              "      fill: #174EA6;\n",
              "    }\n",
              "\n",
              "    [theme=dark] .colab-df-convert {\n",
              "      background-color: #3B4455;\n",
              "      fill: #D2E3FC;\n",
              "    }\n",
              "\n",
              "    [theme=dark] .colab-df-convert:hover {\n",
              "      background-color: #434B5C;\n",
              "      box-shadow: 0px 1px 3px 1px rgba(0, 0, 0, 0.15);\n",
              "      filter: drop-shadow(0px 1px 2px rgba(0, 0, 0, 0.3));\n",
              "      fill: #FFFFFF;\n",
              "    }\n",
              "  </style>\n",
              "\n",
              "      <script>\n",
              "        const buttonEl =\n",
              "          document.querySelector('#df-083baf22-9d6e-4b21-bf70-8238737581e1 button.colab-df-convert');\n",
              "        buttonEl.style.display =\n",
              "          google.colab.kernel.accessAllowed ? 'block' : 'none';\n",
              "\n",
              "        async function convertToInteractive(key) {\n",
              "          const element = document.querySelector('#df-083baf22-9d6e-4b21-bf70-8238737581e1');\n",
              "          const dataTable =\n",
              "            await google.colab.kernel.invokeFunction('convertToInteractive',\n",
              "                                                     [key], {});\n",
              "          if (!dataTable) return;\n",
              "\n",
              "          const docLinkHtml = 'Like what you see? Visit the ' +\n",
              "            '<a target=\"_blank\" href=https://colab.research.google.com/notebooks/data_table.ipynb>data table notebook</a>'\n",
              "            + ' to learn more about interactive tables.';\n",
              "          element.innerHTML = '';\n",
              "          dataTable['output_type'] = 'display_data';\n",
              "          await google.colab.output.renderOutput(dataTable, element);\n",
              "          const docLink = document.createElement('div');\n",
              "          docLink.innerHTML = docLinkHtml;\n",
              "          element.appendChild(docLink);\n",
              "        }\n",
              "      </script>\n",
              "    </div>\n",
              "  </div>\n",
              "  "
            ]
          },
          "metadata": {},
          "execution_count": 21
        }
      ],
      "source": [
        "df.head()"
      ]
    },
    {
      "cell_type": "markdown",
      "id": "b600c6e5",
      "metadata": {
        "id": "b600c6e5"
      },
      "source": [
        "# Univariate Analysis\n",
        "Lets have a look at the distribution of various variables in the Data set."
      ]
    },
    {
      "cell_type": "markdown",
      "id": "64e01aca",
      "metadata": {
        "id": "64e01aca"
      },
      "source": [
        "# Let us start by analyzing the target variable."
      ]
    },
    {
      "cell_type": "code",
      "execution_count": null,
      "id": "0cce224c",
      "metadata": {
        "id": "0cce224c"
      },
      "outputs": [],
      "source": [
        "sns.histplot(df['trip_duration'],kde=False,bins=20)\n",
        "plt.title('      The distribution of of the Pick Up  Duration distribution')"
      ]
    },
    {
      "cell_type": "markdown",
      "id": "3ef9198e",
      "metadata": {
        "id": "3ef9198e"
      },
      "source": [
        "<b>This histogram shows extreme right skewness, hence there are outliers. Lets see the boxplot of this variable."
      ]
    },
    {
      "cell_type": "code",
      "execution_count": null,
      "id": "02216981",
      "metadata": {
        "id": "02216981"
      },
      "outputs": [],
      "source": [
        "sns.boxplot(df['trip_duration'])\n",
        "plt.title('A boxplot depicting the pickup duration distribution')"
      ]
    },
    {
      "cell_type": "markdown",
      "id": "5ca9dbfd",
      "metadata": {
        "id": "5ca9dbfd"
      },
      "source": [
        "#### Thus we see there is only value near 2000000 while all the others are somewhere between 0 and 100000. The one near 2000000 is definitely an outlier which must be treated.  We can clearly see an outlier."
      ]
    },
    {
      "cell_type": "code",
      "execution_count": null,
      "id": "0070e777",
      "metadata": {
        "id": "0070e777"
      },
      "outputs": [],
      "source": [
        "df['trip_duration'].sort_values(ascending=False)"
      ]
    },
    {
      "cell_type": "markdown",
      "id": "b115e34b",
      "metadata": {
        "id": "b115e34b"
      },
      "source": [
        "#### Lets have a look at the 10 largest value of trip_duration."
      ]
    },
    {
      "cell_type": "code",
      "execution_count": null,
      "id": "59de0c7d",
      "metadata": {
        "scrolled": true,
        "id": "59de0c7d"
      },
      "outputs": [],
      "source": [
        "print( df['trip_duration'].nlargest(10))"
      ]
    },
    {
      "cell_type": "markdown",
      "id": "7e42e595",
      "metadata": {
        "id": "7e42e595"
      },
      "source": [
        "- The largest value is much greater than the 2nd and 3rd largest trip duration value. This might be because of some errors which typically occurs during data collection or this might be a legit data. Since the occurrence of such a huge value is unlikely so its better to drop this row before further analysis."
      ]
    },
    {
      "cell_type": "markdown",
      "id": "b643f09d",
      "metadata": {
        "id": "b643f09d"
      },
      "source": [
        "### The value can be replaced by the mode or median of trip duration as well."
      ]
    },
    {
      "cell_type": "code",
      "execution_count": null,
      "id": "0ff36132",
      "metadata": {
        "id": "0ff36132"
      },
      "outputs": [],
      "source": [
        "df=df[df.trip_duration!=df.trip_duration.max()]"
      ]
    },
    {
      "cell_type": "markdown",
      "id": "079f75a1",
      "metadata": {
        "id": "079f75a1"
      },
      "source": [
        "### The distribution of the trip_duration after we have dropped the outlier."
      ]
    },
    {
      "cell_type": "code",
      "execution_count": null,
      "id": "f06f3009",
      "metadata": {
        "id": "f06f3009"
      },
      "outputs": [],
      "source": [
        "sns.distplot(df['trip_duration'])\n",
        "plt.title('               Distribution of the pickup ditribution after the treatment of outliers')"
      ]
    },
    {
      "cell_type": "markdown",
      "id": "b41a8f8d",
      "metadata": {
        "id": "b41a8f8d"
      },
      "source": [
        "###  Still there is an extreme right skewness. Thus we will divide the trip_duration column into some interval.\n",
        "<b>The intervals are decided as follows:\n",
        "- less than 5 hours\n",
        "- 5–10 hours\n",
        "- 10–15 hours\n",
        "- 15–20 hours\n",
        "- more than 20 hours"
      ]
    },
    {
      "cell_type": "code",
      "execution_count": null,
      "id": "af139adc",
      "metadata": {
        "id": "af139adc"
      },
      "outputs": [],
      "source": [
        "bins=np.array([0,1800,3600,5400,7200,90000])\n",
        "df['duration_time']=pd.cut(df.trip_duration,bins,labels=[\"< 5\", \"5-10\", \"10-15\",\"15-20\",\">20\"])"
      ]
    },
    {
      "cell_type": "markdown",
      "id": "1d42c75c",
      "metadata": {
        "id": "1d42c75c"
      },
      "source": [
        "## Passenger Count"
      ]
    },
    {
      "cell_type": "code",
      "execution_count": null,
      "id": "fbf9e810",
      "metadata": {
        "id": "fbf9e810"
      },
      "outputs": [],
      "source": [
        "df.passenger_count.value_counts()"
      ]
    },
    {
      "cell_type": "markdown",
      "id": "eae5d486",
      "metadata": {
        "id": "eae5d486"
      },
      "source": [
        "- There are some trips with even 0 passenger count that means the booking might be cancelled due to some reason.\n",
        "- There is only 1 trip each for 7 and 9 passengers."
      ]
    },
    {
      "cell_type": "code",
      "execution_count": null,
      "id": "85d11739",
      "metadata": {
        "id": "85d11739"
      },
      "outputs": [],
      "source": [
        "# A histogram of the passengers in each trip\n",
        "sns.distplot(df['passenger_count'],kde=False)\n",
        "plt.title('Distribution of Passenger Count')\n",
        "plt.show()"
      ]
    },
    {
      "cell_type": "markdown",
      "id": "370bd334",
      "metadata": {
        "id": "370bd334"
      },
      "source": [
        "- Here we see that the mostly 1 or 2 passengers avail the cab. The instance of large group of people travelling together is rare."
      ]
    },
    {
      "cell_type": "markdown",
      "id": "e2dab0a2",
      "metadata": {
        "id": "e2dab0a2"
      },
      "source": [
        "<b>Let us remove the rows which have 0 or 7 or 8 or 9 passenger count."
      ]
    },
    {
      "cell_type": "code",
      "execution_count": null,
      "id": "ae50d62d",
      "metadata": {
        "id": "ae50d62d"
      },
      "outputs": [],
      "source": [
        "df=df[df['passenger_count']!=0]\n",
        "df=df[df['passenger_count']<=6]"
      ]
    },
    {
      "cell_type": "code",
      "execution_count": null,
      "id": "969586cf",
      "metadata": {
        "id": "969586cf"
      },
      "outputs": [],
      "source": [
        "df.passenger_count.value_counts()"
      ]
    },
    {
      "cell_type": "markdown",
      "id": "8f6185ca",
      "metadata": {
        "id": "8f6185ca"
      },
      "source": [
        "- Now, that seems like a fair distribution."
      ]
    },
    {
      "cell_type": "markdown",
      "id": "7173462f",
      "metadata": {
        "id": "7173462f"
      },
      "source": [
        "# Store and Forward Flag"
      ]
    },
    {
      "cell_type": "code",
      "execution_count": 33,
      "id": "2da0b670",
      "metadata": {
        "colab": {
          "base_uri": "https://localhost:8080/"
        },
        "id": "2da0b670",
        "outputId": "a8b68a8a-f272-4c62-da67-e08c2bb845a6"
      },
      "outputs": [
        {
          "output_type": "execute_result",
          "data": {
            "text/plain": [
              "N    1450536\n",
              "Y       8042\n",
              "Name: store_and_fwd_flag, dtype: int64"
            ]
          },
          "metadata": {},
          "execution_count": 33
        }
      ],
      "source": [
        "#The returned frequency distribution of the Yes/No Flag\n",
        "df['store_and_fwd_flag'].value_counts() "
      ]
    },
    {
      "cell_type": "markdown",
      "id": "85c3f6c4",
      "metadata": {
        "id": "85c3f6c4"
      },
      "source": [
        "- The number of N flag is much larger. We can later see whether they have any relation with the duration of the trip."
      ]
    },
    {
      "cell_type": "markdown",
      "id": "84f10eb7",
      "metadata": {
        "id": "84f10eb7"
      },
      "source": [
        "# Distance"
      ]
    },
    {
      "cell_type": "code",
      "execution_count": 34,
      "id": "701070e2",
      "metadata": {
        "colab": {
          "base_uri": "https://localhost:8080/"
        },
        "id": "701070e2",
        "outputId": "19b39a8e-a707-4b39-ed29-6cc60a8a78f7"
      },
      "outputs": [
        {
          "output_type": "execute_result",
          "data": {
            "text/plain": [
              "0.000000    5887\n",
              "0.000424      45\n",
              "0.000424      43\n",
              "0.000424      35\n",
              "0.000424      22\n",
              "            ... \n",
              "3.231345       1\n",
              "1.584861       1\n",
              "0.434274       1\n",
              "3.809274       1\n",
              "1.134044       1\n",
              "Name: distance, Length: 1452308, dtype: int64"
            ]
          },
          "metadata": {},
          "execution_count": 34
        }
      ],
      "source": [
        "df['distance'].value_counts()"
      ]
    },
    {
      "cell_type": "markdown",
      "id": "c8bb24ff",
      "metadata": {
        "id": "c8bb24ff"
      },
      "source": [
        "### We see there are 5887 trips with 0 km distance.\n",
        "\n",
        "The reasons for 0 km distance can be:\n",
        "- The dropoff location couldn’t be tracked.\n",
        "- The driver deliberately took this ride to complete a target ride number.\n",
        "- The passengers canceled the trip.<br>\n",
        "\n",
        "We will analyze these trips further in bivariate analysis."
      ]
    },
    {
      "cell_type": "markdown",
      "id": "ed4e36fb",
      "metadata": {
        "id": "ed4e36fb"
      },
      "source": [
        "# Vendor id"
      ]
    },
    {
      "cell_type": "code",
      "execution_count": 35,
      "id": "6e82a52c",
      "metadata": {
        "colab": {
          "base_uri": "https://localhost:8080/",
          "height": 0
        },
        "id": "6e82a52c",
        "outputId": "0db9bb36-e378-4f0c-9983-8aaebce63fad"
      },
      "outputs": [
        {
          "output_type": "execute_result",
          "data": {
            "text/plain": [
              "<matplotlib.axes._subplots.AxesSubplot at 0x7fb2bed86590>"
            ]
          },
          "metadata": {},
          "execution_count": 35
        },
        {
          "output_type": "display_data",
          "data": {
            "text/plain": [
              "<Figure size 432x288 with 1 Axes>"
            ],
            "image/png": "[encoded data removed]"
          },
          "metadata": {
            "needs_background": "light"
          }
        }
      ],
      "source": [
        "sns.countplot(x='vendor_id',data=df)"
      ]
    },
    {
      "cell_type": "markdown",
      "id": "74f730a2",
      "metadata": {
        "id": "74f730a2"
      },
      "source": [
        "- We see that there is not much difference between the trips taken by both vendors."
      ]
    },
    {
      "cell_type": "markdown",
      "id": "88979213",
      "metadata": {
        "id": "88979213"
      },
      "source": [
        "# Trips per Day"
      ]
    },
    {
      "cell_type": "code",
      "execution_count": 36,
      "id": "e18fb7cd",
      "metadata": {
        "colab": {
          "base_uri": "https://localhost:8080/",
          "height": 0
        },
        "id": "e18fb7cd",
        "outputId": "3b9e0c06-d7fb-420a-b7f7-060ccf1a7bb0"
      },
      "outputs": [
        {
          "output_type": "display_data",
          "data": {
            "text/plain": [
              "<Figure size 1440x360 with 2 Axes>"
            ],
            "image/png": "[encoded data removed]"
          },
          "metadata": {
            "needs_background": "light"
          }
        }
      ],
      "source": [
        "figure,(ax1,ax2)=plt.subplots(ncols=2,figsize=(20,5))\n",
        "ax1.set_title('Pickup Days')\n",
        "ax=sns.countplot(x=\"pickup_day\",data=df,ax=ax1)\n",
        "ax2.set_title('Dropoff Days')\n",
        "ax=sns.countplot(x=\"dropoff_day\",data=df,ax=ax2)"
      ]
    },
    {
      "cell_type": "markdown",
      "id": "1888124b",
      "metadata": {
        "id": "1888124b"
      },
      "source": [
        "- Thus we see most trips were taken on Friday and Monday being the least. \n",
        "- We see Fridays are the busiest days followed by Saturdays. That is probably because it’s weekend."
      ]
    },
    {
      "cell_type": "markdown",
      "id": "613d13e8",
      "metadata": {
        "id": "613d13e8"
      },
      "source": [
        "# Trips per Hour"
      ]
    },
    {
      "cell_type": "code",
      "execution_count": 37,
      "id": "bdc5b208",
      "metadata": {
        "colab": {
          "base_uri": "https://localhost:8080/",
          "height": 0
        },
        "id": "bdc5b208",
        "outputId": "add4c662-6873-4313-b721-fac33feb0bfc"
      },
      "outputs": [
        {
          "output_type": "display_data",
          "data": {
            "text/plain": [
              "<Figure size 1440x360 with 2 Axes>"
            ],
            "image/png": "[encoded data removed]"
          },
          "metadata": {
            "needs_background": "light"
          }
        }
      ],
      "source": [
        "figure,(ax9,ax10)=plt.subplots(ncols=2,figsize=(20,5))\n",
        "ax9.set_title('Pickup Days')\n",
        "ax=sns.countplot(x=\"pickup_hour\",data=df,ax=ax9)\n",
        "ax10.set_title('Dropoff Days')\n",
        "ax=sns.countplot(x=\"dropoff_hour\",data=df,ax=ax10)"
      ]
    },
    {
      "cell_type": "markdown",
      "id": "2089d4d1",
      "metadata": {
        "id": "2089d4d1"
      },
      "source": [
        "- We see the busiest hours are 6:00 pm to 7:00 pm and that makes sense as this is the time when people return from their offices."
      ]
    },
    {
      "cell_type": "markdown",
      "id": "62250e7d",
      "metadata": {
        "id": "62250e7d"
      },
      "source": [
        "# Trips per Time of Day"
      ]
    },
    {
      "cell_type": "code",
      "execution_count": 38,
      "id": "4489ff14",
      "metadata": {
        "colab": {
          "base_uri": "https://localhost:8080/",
          "height": 0
        },
        "id": "4489ff14",
        "outputId": "8e708f75-5b11-48cd-eabe-c1b1417cabfd"
      },
      "outputs": [
        {
          "output_type": "display_data",
          "data": {
            "text/plain": [
              "<Figure size 1440x360 with 2 Axes>"
            ],
            "image/png": "[encoded data removed]"
          },
          "metadata": {
            "needs_background": "light"
          }
        }
      ],
      "source": [
        "figure,(ax3,ax4)=plt.subplots(ncols=2,figsize=(20,5))\n",
        "ax3.set_title('Pickup Time of Day')\n",
        "ax=sns.countplot(x=\"pickup_timeofday\",data=df,ax=ax3)\n",
        "ax4.set_title('Dropoff Time of Day')\n",
        "ax=sns.countplot(x=\"dropoff_timeofday\",data=df,ax=ax4)"
      ]
    },
    {
      "cell_type": "markdown",
      "id": "216e8cd6",
      "metadata": {
        "id": "216e8cd6"
      },
      "source": [
        "- Thus we observe that most pickups and drops occur in the evening. While the least drops and pickups occur during morning."
      ]
    },
    {
      "cell_type": "markdown",
      "id": "1079e1e6",
      "metadata": {
        "id": "1079e1e6"
      },
      "source": [
        "# Trips per month"
      ]
    },
    {
      "cell_type": "code",
      "execution_count": 39,
      "id": "eb56a74e",
      "metadata": {
        "colab": {
          "base_uri": "https://localhost:8080/",
          "height": 0
        },
        "id": "eb56a74e",
        "outputId": "5ff41684-fc6d-4139-faf9-bf6ca4278d5c"
      },
      "outputs": [
        {
          "output_type": "display_data",
          "data": {
            "text/plain": [
              "<Figure size 1440x360 with 2 Axes>"
            ],
            "image/png": "[encoded data removed]"
          },
          "metadata": {
            "needs_background": "light"
          }
        }
      ],
      "source": [
        "figure,(ax11,ax12)=plt.subplots(ncols=2,figsize=(20,5))\n",
        "ax11.set_title('Pickup Month')\n",
        "ax=sns.countplot(x=\"pickup_month\",data=df,ax=ax11)\n",
        "ax12.set_title('Dropoff Month')\n",
        "ax=sns.countplot(x=\"dropoff_month\",data=df,ax=ax12)"
      ]
    },
    {
      "cell_type": "markdown",
      "id": "0097d6a6",
      "metadata": {
        "id": "0097d6a6"
      },
      "source": [
        "- There is not much difference in the number of trips across months."
      ]
    },
    {
      "cell_type": "markdown",
      "id": "c7bc6212",
      "metadata": {
        "id": "c7bc6212"
      },
      "source": [
        "# Bivariate Analysis<br>"
      ]
    },
    {
      "cell_type": "markdown",
      "id": "118d2855",
      "metadata": {
        "id": "118d2855"
      },
      "source": [
        "# Passenger Count and Vendor id"
      ]
    },
    {
      "cell_type": "code",
      "execution_count": 40,
      "id": "d6f012a9",
      "metadata": {
        "colab": {
          "base_uri": "https://localhost:8080/",
          "height": 0
        },
        "id": "d6f012a9",
        "outputId": "cbf053c3-097f-47a6-9fcb-c48423cfe13a"
      },
      "outputs": [
        {
          "output_type": "execute_result",
          "data": {
            "text/plain": [
              "<matplotlib.axes._subplots.AxesSubplot at 0x7fb2bf3b78d0>"
            ]
          },
          "metadata": {},
          "execution_count": 40
        },
        {
          "output_type": "display_data",
          "data": {
            "text/plain": [
              "<Figure size 432x288 with 1 Axes>"
            ],
            "image/png": "[encoded data removed]"
          },
          "metadata": {
            "needs_background": "light"
          }
        }
      ],
      "source": [
        "sns.barplot(y='passenger_count',x='vendor_id',data=df)"
      ]
    },
    {
      "cell_type": "markdown",
      "id": "7bd15b72",
      "metadata": {
        "id": "7bd15b72"
      },
      "source": [
        "### Most People Preferred Vendor 2 For Booking Cab Services that can lead to the Thinking part:\n",
        "- There might be either shortage of Taxi provided by vendor 1.\n",
        "- Or There might be good service Provided by Vendor B as compared to A.Lets investigate by drawing catplot."
      ]
    },
    {
      "cell_type": "code",
      "execution_count": 41,
      "id": "b04f1000",
      "metadata": {
        "colab": {
          "base_uri": "https://localhost:8080/",
          "height": 0
        },
        "id": "b04f1000",
        "outputId": "a1955bf7-825d-4cca-f621-9411b13b5a76"
      },
      "outputs": [
        {
          "output_type": "execute_result",
          "data": {
            "text/plain": [
              "<seaborn.axisgrid.FacetGrid at 0x7fb2bf3ef690>"
            ]
          },
          "metadata": {},
          "execution_count": 41
        },
        {
          "output_type": "display_data",
          "data": {
            "text/plain": [
              "<Figure size 360x360 with 1 Axes>"
            ],
            "image/png": "[encoded data removed]"
          },
          "metadata": {
            "needs_background": "light"
          }
        }
      ],
      "source": [
        "sns.catplot(y='trip_duration', x='vendor_id',data=df,kind='strip')"
      ]
    },
    {
      "cell_type": "markdown",
      "id": "e1c0dd52",
      "metadata": {
        "id": "e1c0dd52"
      },
      "source": [
        "- Vendor 1 Offer Short Trips.Where as Vendor 2 offer short as well as long trips thats why people preferred more Vendor 2.\n",
        "- Vendor id 2 takes longer trips as compared to vendor 1."
      ]
    },
    {
      "cell_type": "markdown",
      "id": "8c76ff5a",
      "metadata": {
        "id": "8c76ff5a"
      },
      "source": [
        "# Passenger Count and Trip Duration "
      ]
    },
    {
      "cell_type": "code",
      "execution_count": 42,
      "id": "05899df3",
      "metadata": {
        "colab": {
          "base_uri": "https://localhost:8080/",
          "height": 0
        },
        "id": "05899df3",
        "outputId": "75be9770-4e69-4b60-b267-9c99d60c0d64"
      },
      "outputs": [
        {
          "output_type": "execute_result",
          "data": {
            "text/plain": [
              "<matplotlib.axes._subplots.AxesSubplot at 0x7fb2c1a1f850>"
            ]
          },
          "metadata": {},
          "execution_count": 42
        },
        {
          "output_type": "display_data",
          "data": {
            "text/plain": [
              "<Figure size 432x288 with 1 Axes>"
            ],
            "image/png": "[encoded data removed]"
          },
          "metadata": {
            "needs_background": "light"
          }
        }
      ],
      "source": [
        "sns.barplot(x= 'passenger_count', y= \"trip_duration\",data=df)"
      ]
    },
    {
      "cell_type": "markdown",
      "id": "55a0d1e6",
      "metadata": {
        "id": "55a0d1e6"
      },
      "source": [
        "- Most of the Passenger Trip Duration is b/w 800 to 1000 sec.\n",
        "- The lowest trip duration is around 0 that might be an outlier or people might have cancelled after booking."
      ]
    },
    {
      "cell_type": "markdown",
      "id": "75d3eb78",
      "metadata": {
        "id": "75d3eb78"
      },
      "source": [
        "# Trip Duration per Store and Forward Flag "
      ]
    },
    {
      "cell_type": "code",
      "execution_count": null,
      "id": "b9761c1d",
      "metadata": {
        "id": "b9761c1d"
      },
      "outputs": [],
      "source": [
        "sns.catplot(y='trip_duration',x='store_and_fwd_flag',data=df,kind='strip')"
      ]
    },
    {
      "cell_type": "markdown",
      "id": "c717c6e9",
      "metadata": {
        "id": "c717c6e9"
      },
      "source": [
        "- Trip duration is generally longer for trips whose flag was not stored."
      ]
    },
    {
      "cell_type": "markdown",
      "id": "c4c69b2a",
      "metadata": {
        "id": "c4c69b2a"
      },
      "source": [
        "# Trip Duration per hour"
      ]
    },
    {
      "cell_type": "code",
      "execution_count": null,
      "id": "e5500f6c",
      "metadata": {
        "id": "e5500f6c"
      },
      "outputs": [],
      "source": [
        "sns.lineplot(x='pickup_hour',y='trip_duration',data=df)"
      ]
    },
    {
      "cell_type": "markdown",
      "id": "4be3d8a0",
      "metadata": {
        "id": "4be3d8a0"
      },
      "source": [
        "- We see the trip duration is the maximum around 3 pm which may be because of traffic on the roads.\n",
        "Trip duration is the lowest around 6 am as streets may not be busy."
      ]
    },
    {
      "cell_type": "markdown",
      "id": "50fed3c1",
      "metadata": {
        "id": "50fed3c1"
      },
      "source": [
        "# Trip Duration per time of day"
      ]
    },
    {
      "cell_type": "code",
      "execution_count": null,
      "id": "344b714e",
      "metadata": {
        "id": "344b714e"
      },
      "outputs": [],
      "source": [
        "sns.lineplot(x='pickup_timeofday',y='trip_duration',data=df)"
      ]
    },
    {
      "cell_type": "markdown",
      "id": "65d10299",
      "metadata": {
        "id": "65d10299"
      },
      "source": [
        "- As we saw above, trip duration is the maximum in the afternoon and lowest between late night and morning."
      ]
    },
    {
      "cell_type": "markdown",
      "id": "db3a17b3",
      "metadata": {
        "id": "db3a17b3"
      },
      "source": [
        "# Trip Duration per Day of Week"
      ]
    },
    {
      "cell_type": "code",
      "execution_count": null,
      "id": "0ac6f764",
      "metadata": {
        "id": "0ac6f764"
      },
      "outputs": [],
      "source": [
        "sns.catplot(x=\"pickup_day\",y=\"trip_duration\",kind=\"bar\",data=df,height=6,aspect=1)\n",
        "plt.title('The Average Trip Duration per PickUp Day of the week')\n",
        "sns.catplot(x=\"dropoff_day\",y=\"trip_duration\",kind=\"bar\",data=df,height=6,aspect=1)\n",
        "plt.title('The Average Trip Duration per Dropoff Day of the week')"
      ]
    },
    {
      "cell_type": "markdown",
      "id": "c711762b",
      "metadata": {
        "id": "c711762b"
      },
      "source": [
        "- The graphs denote the average estimate of a trip for each day of the week. The error bars provides some indication of the uncertainty around that estimate\n",
        "\n",
        "- Thus the highest avg time taken to complete a trip is on Thursday while Monday, Saturday and Sunday takes the least time.\n",
        "\n",
        "- But this is not enough. We must also take into consideration the percentage of short, medium and long trips taken on each day."
      ]
    },
    {
      "cell_type": "code",
      "execution_count": null,
      "id": "cb74129a",
      "metadata": {
        "id": "cb74129a"
      },
      "outputs": [],
      "source": [
        "ax1=df.groupby('pickup_day')['duration_time'].value_counts(normalize=True).unstack()\n",
        "ax1.plot(kind='bar', stacked='True')\n",
        "plt.title('The Distribution of percentage of different duration of trips')"
      ]
    },
    {
      "cell_type": "markdown",
      "id": "2a22fba1",
      "metadata": {
        "id": "2a22fba1"
      },
      "source": [
        "- The graph shows a percentage distribution of the trips of different duration within each day of the week.\n",
        "\n",
        "- This does not give much insights as the number of trips within 0–5 hours range is much larger for all the days,\n",
        "\n",
        "- Lets look at the percentage of only longer trips (with duration time > 5 hours)"
      ]
    },
    {
      "cell_type": "code",
      "execution_count": null,
      "id": "27cc6d85",
      "metadata": {
        "id": "27cc6d85"
      },
      "outputs": [],
      "source": [
        "figure,ax=plt.subplots(nrows=1,ncols=3,figsize=(15,5))\n",
        "ax1=df[(df.duration_time !=\"< 5\")].groupby('pickup_day')['duration_time'].count()\n",
        "ax1.plot(kind='bar',ax=ax[0])\n",
        "ax[0].set_title('Distribution of trips > 5 hours')\n",
        "ax2=df[(df.duration_time !=\"< 5\")].groupby('pickup_day')['duration_time'].value_counts(normalize=True).unstack()\n",
        "ax2.plot(kind='bar', stacked='True',ax=ax[1])\n",
        "ax[1].set_title('Percentage distribution of trips > 5 hours')\n",
        "ax3=df[(df.duration_time !=\"< 5\")].groupby('pickup_day')['duration_time'].value_counts().unstack()\n",
        "ax3.plot(kind='bar',ax=ax[2])\n",
        "ax[2].set_title('A compared distribution of trips > 5 hours')"
      ]
    },
    {
      "cell_type": "markdown",
      "id": "8125fdaa",
      "metadata": {
        "id": "8125fdaa"
      },
      "source": [
        "- The 3 graphs present 3 types of information here:\n",
        "\n",
        "- The left most graph shows a frequency distribution of the number of trips(> 5 hours ) taken on each day of the week\n",
        "\n",
        "- The middle one shows a percentage distribution of the trips of different duration ( > 5 hours )within each day of the week.\n",
        "\n",
        "- The right one shows the frequency distribution of the trips of different duration (> 5 hours)within each day of the week."
      ]
    },
    {
      "cell_type": "markdown",
      "id": "f3dc152c",
      "metadata": {
        "id": "f3dc152c"
      },
      "source": [
        "## Some key points :\n",
        "- The most number trips which lasts > 5 hours were taken on Thursday followed by Friday and Wednesday.(Left graph)\n",
        "- The most number of trips of duration 5–10, 10–15 was taken on Thursday.(right graph)\n",
        "- But the highest percentage of trips longer than 20 hours was taken on Sunday and Saturday.(middle graph)"
      ]
    },
    {
      "cell_type": "markdown",
      "id": "43281b1a",
      "metadata": {
        "id": "43281b1a"
      },
      "source": [
        "# Trip Duration per month"
      ]
    },
    {
      "cell_type": "code",
      "execution_count": null,
      "id": "84b0f2b2",
      "metadata": {
        "id": "84b0f2b2"
      },
      "outputs": [],
      "source": [
        "sns.lineplot(x='pickup_month',y='trip_duration',data=df)"
      ]
    },
    {
      "cell_type": "markdown",
      "id": "af32bd50",
      "metadata": {
        "id": "af32bd50"
      },
      "source": [
        "- From February, we can see trip duration rising every month."
      ]
    },
    {
      "cell_type": "markdown",
      "id": "a670a0af",
      "metadata": {
        "id": "a670a0af"
      },
      "source": [
        "# Trip Duration and Distance"
      ]
    },
    {
      "cell_type": "code",
      "execution_count": null,
      "id": "41a4a59e",
      "metadata": {
        "id": "41a4a59e"
      },
      "outputs": [],
      "source": [
        "sns.relplot(y=df.distance,x='trip_duration',data=df)"
      ]
    },
    {
      "cell_type": "markdown",
      "id": "82be2e60",
      "metadata": {
        "id": "82be2e60"
      },
      "source": [
        "- We can see there are trips which trip duration as short as 0 seconds and yet covering a large distance. And, trips with 0 km distance and long trip durations."
      ]
    },
    {
      "cell_type": "markdown",
      "id": "fc678e86",
      "metadata": {
        "id": "fc678e86"
      },
      "source": [
        "#### Let us see few rows whose distances are 0."
      ]
    },
    {
      "cell_type": "code",
      "execution_count": null,
      "id": "b7892bd1",
      "metadata": {
        "id": "b7892bd1"
      },
      "outputs": [],
      "source": [
        "df[df.distance==0].head()"
      ]
    },
    {
      "cell_type": "code",
      "execution_count": null,
      "id": "836e1647",
      "metadata": {
        "id": "836e1647"
      },
      "outputs": [],
      "source": [
        "df[df.distance==0].tail()"
      ]
    },
    {
      "cell_type": "markdown",
      "id": "59c1ea8f",
      "metadata": {
        "id": "59c1ea8f"
      },
      "source": [
        "### We can see even though distance is recorded as 0 but trip duration is definitely more.\n",
        "- One reason can be that the dropoff coordinates weren’t recorded.\n",
        "- Another reason one can think is that for short trip durations, maybe the passenger changed their mind and cancelled the ride after some time."
      ]
    },
    {
      "cell_type": "markdown",
      "id": "e03549f6",
      "metadata": {
        "id": "e03549f6"
      },
      "source": [
        "# Distance per passenger count"
      ]
    },
    {
      "cell_type": "code",
      "execution_count": null,
      "id": "5f4a7716",
      "metadata": {
        "id": "5f4a7716"
      },
      "outputs": [],
      "source": [
        "sns.catplot(y='distance',x='passenger_count',data=df,kind='strip')"
      ]
    },
    {
      "cell_type": "markdown",
      "id": "647a413a",
      "metadata": {
        "id": "647a413a"
      },
      "source": [
        "- We see some of the longer distances are covered by either 1 or 2 or 4 or 5 passenger rides.\n"
      ]
    },
    {
      "cell_type": "markdown",
      "id": "1f33b587",
      "metadata": {
        "id": "1f33b587"
      },
      "source": [
        "# Distance per day of week"
      ]
    },
    {
      "cell_type": "code",
      "execution_count": null,
      "id": "9f5cb402",
      "metadata": {
        "id": "9f5cb402"
      },
      "outputs": [],
      "source": [
        "sns.lineplot(x='pickup_day_no',y='distance',data=df)"
      ]
    },
    {
      "cell_type": "markdown",
      "id": "7c39038a",
      "metadata": {
        "id": "7c39038a"
      },
      "source": [
        "- Distances are longer on Sundays probably because it’s weekend.\n",
        "- Monday trip distances are also quite high.\n",
        "- This probably means that there can be outstation trips on these days and/or the streets are busier."
      ]
    },
    {
      "cell_type": "markdown",
      "id": "b9cd4621",
      "metadata": {
        "id": "b9cd4621"
      },
      "source": [
        "# Distance per hour of day"
      ]
    },
    {
      "cell_type": "code",
      "execution_count": null,
      "id": "827d6d18",
      "metadata": {
        "id": "827d6d18"
      },
      "outputs": [],
      "source": [
        "sns.lineplot(x='pickup_hour',y='distance',data=df)"
      ]
    },
    {
      "cell_type": "markdown",
      "id": "6c46e971",
      "metadata": {
        "id": "6c46e971"
      },
      "source": [
        "- Distances are the longest around 5 am."
      ]
    },
    {
      "cell_type": "markdown",
      "id": "8a5ef89f",
      "metadata": {
        "id": "8a5ef89f"
      },
      "source": [
        "# Distance per time of day"
      ]
    },
    {
      "cell_type": "code",
      "execution_count": null,
      "id": "01c1b5a2",
      "metadata": {
        "id": "01c1b5a2"
      },
      "outputs": [],
      "source": [
        "sns.lineplot(x='pickup_timeofday',y='distance',data=df)"
      ]
    },
    {
      "cell_type": "markdown",
      "id": "f796aa05",
      "metadata": {
        "id": "f796aa05"
      },
      "source": [
        "- As seen above also, distances being the longest during late night or it maybe called as early morning too.\n",
        "This can probably point to outstation trips where people start early for the day."
      ]
    },
    {
      "cell_type": "markdown",
      "id": "4323e8ee",
      "metadata": {
        "id": "4323e8ee"
      },
      "source": [
        "# Distance per month"
      ]
    },
    {
      "cell_type": "code",
      "execution_count": null,
      "id": "614f1a4b",
      "metadata": {
        "id": "614f1a4b"
      },
      "outputs": [],
      "source": [
        "sns.lineplot(x='pickup_month',y='distance',data=df)"
      ]
    },
    {
      "cell_type": "markdown",
      "id": "deb10390",
      "metadata": {
        "id": "deb10390"
      },
      "source": [
        "- As we also saw during trip duration per month, similarly trip distance is the lowest in February and the maximum in June."
      ]
    },
    {
      "cell_type": "markdown",
      "id": "edf4ebc0",
      "metadata": {
        "id": "edf4ebc0"
      },
      "source": [
        "#  Duration and Geographical Location"
      ]
    },
    {
      "cell_type": "code",
      "execution_count": null,
      "id": "396c90cd",
      "metadata": {
        "id": "396c90cd"
      },
      "outputs": [],
      "source": [
        "sns.relplot(x=\"pickup_latitude\", y=\"dropoff_latitude\", hue ='pickup_timeofday',row='duration_time',data=df);    "
      ]
    },
    {
      "cell_type": "markdown",
      "id": "021540a6",
      "metadata": {
        "id": "021540a6"
      },
      "source": [
        "### Here’s what we see\n",
        "- for shorter trips (<5 hours), the pickup and dropoff latitude is more or less evenly distributed between 30 ° and 40 °\n",
        "- for longer trips(>5 hours ) the pickup and dropoff latitude is all concentrated between 40 ° and 42 ° degrees."
      ]
    },
    {
      "cell_type": "code",
      "execution_count": null,
      "id": "6a8a4aa6",
      "metadata": {
        "id": "6a8a4aa6"
      },
      "outputs": [],
      "source": [
        "sns.relplot(x=\"pickup_longitude\", y=\"dropoff_longitude\",hue='pickup_timeofday',row='duration_time',data=df);"
      ]
    },
    {
      "cell_type": "markdown",
      "id": "0ee096a5",
      "metadata": {
        "id": "0ee096a5"
      },
      "source": [
        "### Here’s what we see\n",
        "- for shorter trips (<5), the pickup and dropoff longitude is more or less evenly distributed between -80 ° and -65 ° with one outlier near -120 ° .\n",
        "- for longer trips(>5) the pickup and dropoff longitude is all concentrated near -75 °"
      ]
    },
    {
      "cell_type": "markdown",
      "id": "1af52eb8",
      "metadata": {
        "id": "1af52eb8"
      },
      "source": []
    },
    {
      "cell_type": "code",
      "execution_count": null,
      "id": "94ebd836",
      "metadata": {
        "id": "94ebd836"
      },
      "outputs": [],
      "source": []
    },
    {
      "cell_type": "code",
      "execution_count": null,
      "id": "2037e32c",
      "metadata": {
        "id": "2037e32c"
      },
      "outputs": [],
      "source": []
    },
    {
      "cell_type": "code",
      "execution_count": null,
      "id": "6045046a",
      "metadata": {
        "id": "6045046a"
      },
      "outputs": [],
      "source": []
    },
    {
      "cell_type": "code",
      "execution_count": null,
      "id": "4f11d9ba",
      "metadata": {
        "id": "4f11d9ba"
      },
      "outputs": [],
      "source": []
    },
    {
      "cell_type": "code",
      "execution_count": null,
      "id": "c131fca3",
      "metadata": {
        "id": "c131fca3"
      },
      "outputs": [],
      "source": []
    },
    {
      "cell_type": "code",
      "execution_count": null,
      "id": "5a9ea8a5",
      "metadata": {
        "id": "5a9ea8a5"
      },
      "outputs": [],
      "source": []
    },
    {
      "cell_type": "code",
      "execution_count": null,
      "id": "e3b7ace3",
      "metadata": {
        "id": "e3b7ace3"
      },
      "outputs": [],
      "source": []
    },
    {
      "cell_type": "code",
      "execution_count": null,
      "id": "bbc8e28a",
      "metadata": {
        "id": "bbc8e28a"
      },
      "outputs": [],
      "source": []
    },
    {
      "cell_type": "code",
      "execution_count": null,
      "id": "2d548793",
      "metadata": {
        "id": "2d548793"
      },
      "outputs": [],
      "source": []
    },
    {
      "cell_type": "markdown",
      "id": "c37ef0c0",
      "metadata": {
        "id": "c37ef0c0"
      },
      "source": [
        "# Conclusion about Trip Duration and the data set:\n",
        "- Trip Duration varies a lot ranging from few seconds to more than 20 hours\n",
        "- Most trips are taken on Friday , Saturday and Thursday\n",
        "- The average duration of a trip is most on Thursday and Friday as trips longer than 5 hours are mostly taken in these days\n",
        "- The average duration of trips started in between 14 hours and 17 hours is the largest.\n",
        "- Vendor 2 mostly provides the longer trips\n",
        "- The long duration trips(> 5 hours) are mostly concentrated with their pickup region near (40 °,75 °) to (42°,75°)"
      ]
    },
    {
      "cell_type": "code",
      "execution_count": null,
      "id": "36024147",
      "metadata": {
        "id": "36024147"
      },
      "outputs": [],
      "source": []
    }
  ],
  "metadata": {
    "kernelspec": {
      "display_name": "Python 3 (ipykernel)",
      "language": "python",
      "name": "python3"
    },
    "language_info": {
      "codemirror_mode": {
        "name": "ipython",
        "version": 3
      },
      "file_extension": ".py",
      "mimetype": "text/x-python",
      "name": "python",
      "nbconvert_exporter": "python",
      "pygments_lexer": "ipython3",
      "version": "3.9.13"
    },
    "colab": {
      "provenance": [],
      "include_colab_link": true
    }
  },
  "nbformat": 4,
  "nbformat_minor": 5
}